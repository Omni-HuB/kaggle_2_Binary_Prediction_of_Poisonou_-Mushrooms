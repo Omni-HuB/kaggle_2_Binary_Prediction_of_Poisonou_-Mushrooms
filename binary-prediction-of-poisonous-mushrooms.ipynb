{
 "cells": [
  {
   "cell_type": "markdown",
   "id": "db567877",
   "metadata": {
    "papermill": {
     "duration": 0.004761,
     "end_time": "2024-08-01T07:27:08.604446",
     "exception": false,
     "start_time": "2024-08-01T07:27:08.599685",
     "status": "completed"
    },
    "tags": []
   },
   "source": [
    "## importing Libraries"
   ]
  },
  {
   "cell_type": "code",
   "execution_count": 1,
   "id": "6f75c88b",
   "metadata": {
    "execution": {
     "iopub.execute_input": "2024-08-01T07:27:08.615018Z",
     "iopub.status.busy": "2024-08-01T07:27:08.614524Z",
     "iopub.status.idle": "2024-08-01T07:27:10.984706Z",
     "shell.execute_reply": "2024-08-01T07:27:10.983573Z"
    },
    "papermill": {
     "duration": 2.379281,
     "end_time": "2024-08-01T07:27:10.987905",
     "exception": false,
     "start_time": "2024-08-01T07:27:08.608624",
     "status": "completed"
    },
    "tags": []
   },
   "outputs": [],
   "source": [
    "import pandas as pd\n",
    "import numpy as np\n",
    "import seaborn as sns\n",
    "import matplotlib.pyplot as plt\n",
    "import warnings\n",
    "import os\n",
    "warnings.filterwarnings('ignore')"
   ]
  },
  {
   "cell_type": "markdown",
   "id": "04d7f012",
   "metadata": {
    "papermill": {
     "duration": 0.003798,
     "end_time": "2024-08-01T07:27:10.995872",
     "exception": false,
     "start_time": "2024-08-01T07:27:10.992074",
     "status": "completed"
    },
    "tags": []
   },
   "source": [
    "## Checking availability of Datasets"
   ]
  },
  {
   "cell_type": "code",
   "execution_count": 2,
   "id": "b93ede34",
   "metadata": {
    "_cell_guid": "b1076dfc-b9ad-4769-8c92-a6c4dae69d19",
    "_uuid": "8f2839f25d086af736a60e9eeb907d3b93b6e0e5",
    "execution": {
     "iopub.execute_input": "2024-08-01T07:27:11.006519Z",
     "iopub.status.busy": "2024-08-01T07:27:11.005958Z",
     "iopub.status.idle": "2024-08-01T07:27:11.015387Z",
     "shell.execute_reply": "2024-08-01T07:27:11.013894Z"
    },
    "papermill": {
     "duration": 0.018478,
     "end_time": "2024-08-01T07:27:11.018514",
     "exception": false,
     "start_time": "2024-08-01T07:27:11.000036",
     "status": "completed"
    },
    "tags": []
   },
   "outputs": [
    {
     "name": "stdout",
     "output_type": "stream",
     "text": [
      "dirname: /kaggle/input\n",
      "no file in the directory!! Please add a dataset \n",
      "dirname: /kaggle/input/playground-series-s4e8\n",
      "/kaggle/input/playground-series-s4e8/sample_submission.csv\n",
      "/kaggle/input/playground-series-s4e8/train.csv\n",
      "/kaggle/input/playground-series-s4e8/test.csv\n"
     ]
    }
   ],
   "source": [
    "# Input data files are available in the read-only \"../input/\" directory\n",
    "# For example, running this (by clicking run or pressing Shift+Enter) will list all files under the input directory\n",
    "\n",
    "import os\n",
    "for dirname, _, filenames in os.walk('/kaggle/input'):\n",
    "    print(\"dirname:\" , dirname)\n",
    "    if len(filenames) == 0 :\n",
    "        print(\"no file in the directory!! Please add a dataset \")  \n",
    "        \n",
    "    else:\n",
    "        for filename in filenames:\n",
    "            print(os.path.join(dirname, filename))\n",
    "        \n",
    "       \n",
    "# You can write up to 20GB to the current directory (/kaggle/working/) that gets preserved as output when you create a version using \"Save & Run All\" \n",
    "# You can also write temporary files to /kaggle/temp/, but they won't be saved outside of the current session"
   ]
  },
  {
   "cell_type": "markdown",
   "id": "8a8ab84a",
   "metadata": {
    "papermill": {
     "duration": 0.003625,
     "end_time": "2024-08-01T07:27:11.026304",
     "exception": false,
     "start_time": "2024-08-01T07:27:11.022679",
     "status": "completed"
    },
    "tags": []
   },
   "source": [
    "## Loading Datasets"
   ]
  },
  {
   "cell_type": "code",
   "execution_count": 3,
   "id": "711d5fb8",
   "metadata": {
    "execution": {
     "iopub.execute_input": "2024-08-01T07:27:11.035789Z",
     "iopub.status.busy": "2024-08-01T07:27:11.035310Z",
     "iopub.status.idle": "2024-08-01T07:27:31.683369Z",
     "shell.execute_reply": "2024-08-01T07:27:31.682080Z"
    },
    "papermill": {
     "duration": 20.656685,
     "end_time": "2024-08-01T07:27:31.686709",
     "exception": false,
     "start_time": "2024-08-01T07:27:11.030024",
     "status": "completed"
    },
    "tags": []
   },
   "outputs": [],
   "source": [
    "data_train=pd.read_csv(\"/kaggle/input/playground-series-s4e8/train.csv\")\n",
    "data_test=pd.read_csv(\"/kaggle/input/playground-series-s4e8/test.csv\")\n",
    "data_sample_sub=pd.read_csv(\"/kaggle/input/playground-series-s4e8/sample_submission.csv\")"
   ]
  },
  {
   "cell_type": "code",
   "execution_count": 4,
   "id": "97aa0eb8",
   "metadata": {
    "execution": {
     "iopub.execute_input": "2024-08-01T07:27:31.697157Z",
     "iopub.status.busy": "2024-08-01T07:27:31.696319Z",
     "iopub.status.idle": "2024-08-01T07:27:31.705215Z",
     "shell.execute_reply": "2024-08-01T07:27:31.703986Z"
    },
    "papermill": {
     "duration": 0.016881,
     "end_time": "2024-08-01T07:27:31.707808",
     "exception": false,
     "start_time": "2024-08-01T07:27:31.690927",
     "status": "completed"
    },
    "tags": []
   },
   "outputs": [
    {
     "data": {
      "text/plain": [
       "(3116945, 22)"
      ]
     },
     "execution_count": 4,
     "metadata": {},
     "output_type": "execute_result"
    }
   ],
   "source": [
    "data_train.shape"
   ]
  },
  {
   "cell_type": "code",
   "execution_count": 5,
   "id": "2b90b10c",
   "metadata": {
    "execution": {
     "iopub.execute_input": "2024-08-01T07:27:31.718094Z",
     "iopub.status.busy": "2024-08-01T07:27:31.717662Z",
     "iopub.status.idle": "2024-08-01T07:27:31.725196Z",
     "shell.execute_reply": "2024-08-01T07:27:31.724113Z"
    },
    "papermill": {
     "duration": 0.015494,
     "end_time": "2024-08-01T07:27:31.727601",
     "exception": false,
     "start_time": "2024-08-01T07:27:31.712107",
     "status": "completed"
    },
    "tags": []
   },
   "outputs": [
    {
     "data": {
      "text/plain": [
       "(2077964, 21)"
      ]
     },
     "execution_count": 5,
     "metadata": {},
     "output_type": "execute_result"
    }
   ],
   "source": [
    "data_test.shape"
   ]
  },
  {
   "cell_type": "code",
   "execution_count": 6,
   "id": "b5d343eb",
   "metadata": {
    "execution": {
     "iopub.execute_input": "2024-08-01T07:27:31.737883Z",
     "iopub.status.busy": "2024-08-01T07:27:31.737440Z",
     "iopub.status.idle": "2024-08-01T07:27:31.745218Z",
     "shell.execute_reply": "2024-08-01T07:27:31.744025Z"
    },
    "papermill": {
     "duration": 0.015786,
     "end_time": "2024-08-01T07:27:31.747676",
     "exception": false,
     "start_time": "2024-08-01T07:27:31.731890",
     "status": "completed"
    },
    "tags": []
   },
   "outputs": [
    {
     "data": {
      "text/plain": [
       "(2077964, 2)"
      ]
     },
     "execution_count": 6,
     "metadata": {},
     "output_type": "execute_result"
    }
   ],
   "source": [
    "data_sample_sub.shape"
   ]
  }
 ],
 "metadata": {
  "kaggle": {
   "accelerator": "none",
   "dataSources": [
    {
     "databundleVersionId": 9045607,
     "sourceId": 76727,
     "sourceType": "competition"
    }
   ],
   "dockerImageVersionId": 30746,
   "isGpuEnabled": false,
   "isInternetEnabled": true,
   "language": "python",
   "sourceType": "notebook"
  },
  "kernelspec": {
   "display_name": "Python 3",
   "language": "python",
   "name": "python3"
  },
  "language_info": {
   "codemirror_mode": {
    "name": "ipython",
    "version": 3
   },
   "file_extension": ".py",
   "mimetype": "text/x-python",
   "name": "python",
   "nbconvert_exporter": "python",
   "pygments_lexer": "ipython3",
   "version": "3.10.13"
  },
  "papermill": {
   "default_parameters": {},
   "duration": 27.281652,
   "end_time": "2024-08-01T07:27:32.676176",
   "environment_variables": {},
   "exception": null,
   "input_path": "__notebook__.ipynb",
   "output_path": "__notebook__.ipynb",
   "parameters": {},
   "start_time": "2024-08-01T07:27:05.394524",
   "version": "2.5.0"
  }
 },
 "nbformat": 4,
 "nbformat_minor": 5
}
