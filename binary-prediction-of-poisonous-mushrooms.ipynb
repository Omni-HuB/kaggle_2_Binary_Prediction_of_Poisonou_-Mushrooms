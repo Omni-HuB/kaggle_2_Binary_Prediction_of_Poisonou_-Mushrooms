{
 "cells": [
  {
   "cell_type": "markdown",
   "id": "81a247c5",
   "metadata": {
    "papermill": {
     "duration": 0.013694,
     "end_time": "2024-08-13T09:29:20.856268",
     "exception": false,
     "start_time": "2024-08-13T09:29:20.842574",
     "status": "completed"
    },
    "tags": []
   },
   "source": [
    "## importing Libraries"
   ]
  },
  {
   "cell_type": "code",
   "execution_count": 1,
   "id": "4e5a5565",
   "metadata": {
    "execution": {
     "iopub.execute_input": "2024-08-13T09:29:20.886252Z",
     "iopub.status.busy": "2024-08-13T09:29:20.885258Z",
     "iopub.status.idle": "2024-08-13T09:29:23.478422Z",
     "shell.execute_reply": "2024-08-13T09:29:23.477099Z"
    },
    "papermill": {
     "duration": 2.611381,
     "end_time": "2024-08-13T09:29:23.481320",
     "exception": false,
     "start_time": "2024-08-13T09:29:20.869939",
     "status": "completed"
    },
    "tags": []
   },
   "outputs": [],
   "source": [
    "import pandas as pd\n",
    "import numpy as np\n",
    "import seaborn as sns\n",
    "import matplotlib.pyplot as plt\n",
    "import warnings\n",
    "import os\n",
    "warnings.filterwarnings('ignore')"
   ]
  },
  {
   "cell_type": "markdown",
   "id": "5b7c0122",
   "metadata": {
    "papermill": {
     "duration": 0.013504,
     "end_time": "2024-08-13T09:29:23.508241",
     "exception": false,
     "start_time": "2024-08-13T09:29:23.494737",
     "status": "completed"
    },
    "tags": []
   },
   "source": [
    "## Checking availability of Datasets"
   ]
  },
  {
   "cell_type": "code",
   "execution_count": 2,
   "id": "7827a6fe",
   "metadata": {
    "_cell_guid": "b1076dfc-b9ad-4769-8c92-a6c4dae69d19",
    "_uuid": "8f2839f25d086af736a60e9eeb907d3b93b6e0e5",
    "execution": {
     "iopub.execute_input": "2024-08-13T09:29:23.537390Z",
     "iopub.status.busy": "2024-08-13T09:29:23.536869Z",
     "iopub.status.idle": "2024-08-13T09:29:23.546611Z",
     "shell.execute_reply": "2024-08-13T09:29:23.545068Z"
    },
    "papermill": {
     "duration": 0.026992,
     "end_time": "2024-08-13T09:29:23.549177",
     "exception": false,
     "start_time": "2024-08-13T09:29:23.522185",
     "status": "completed"
    },
    "tags": []
   },
   "outputs": [
    {
     "name": "stdout",
     "output_type": "stream",
     "text": [
      "dirname: /kaggle/input\n",
      "no file in the directory!! Please add a dataset \n",
      "dirname: /kaggle/input/playground-series-s4e8\n",
      "/kaggle/input/playground-series-s4e8/sample_submission.csv\n",
      "/kaggle/input/playground-series-s4e8/train.csv\n",
      "/kaggle/input/playground-series-s4e8/test.csv\n"
     ]
    }
   ],
   "source": [
    "# Input data files are available in the read-only \"../input/\" directory\n",
    "# For example, running this (by clicking run or pressing Shift+Enter) will list all files under the input directory\n",
    "\n",
    "import os\n",
    "for dirname, _, filenames in os.walk('/kaggle/input'):\n",
    "    print(\"dirname:\" , dirname)\n",
    "    if len(filenames) == 0 :\n",
    "        print(\"no file in the directory!! Please add a dataset \")  \n",
    "        \n",
    "    else:\n",
    "        for filename in filenames:\n",
    "            print(os.path.join(dirname, filename))\n",
    "        \n",
    "       \n",
    "# You can write up to 20GB to the current directory (/kaggle/working/) that gets preserved as output when you create a version using \"Save & Run All\" \n",
    "# You can also write temporary files to /kaggle/temp/, but they won't be saved outside of the current session"
   ]
  },
  {
   "cell_type": "markdown",
   "id": "f660bac7",
   "metadata": {
    "papermill": {
     "duration": 0.013846,
     "end_time": "2024-08-13T09:29:23.577562",
     "exception": false,
     "start_time": "2024-08-13T09:29:23.563716",
     "status": "completed"
    },
    "tags": []
   },
   "source": [
    "## Loading Datasets"
   ]
  },
  {
   "cell_type": "code",
   "execution_count": 3,
   "id": "333bf335",
   "metadata": {
    "execution": {
     "iopub.execute_input": "2024-08-13T09:29:23.607200Z",
     "iopub.status.busy": "2024-08-13T09:29:23.606787Z",
     "iopub.status.idle": "2024-08-13T09:29:45.193197Z",
     "shell.execute_reply": "2024-08-13T09:29:45.191818Z"
    },
    "papermill": {
     "duration": 21.604945,
     "end_time": "2024-08-13T09:29:45.196342",
     "exception": false,
     "start_time": "2024-08-13T09:29:23.591397",
     "status": "completed"
    },
    "tags": []
   },
   "outputs": [],
   "source": [
    "data_train=pd.read_csv(\"/kaggle/input/playground-series-s4e8/train.csv\")\n",
    "data_test=pd.read_csv(\"/kaggle/input/playground-series-s4e8/test.csv\")\n",
    "data_sample_sub=pd.read_csv(\"/kaggle/input/playground-series-s4e8/sample_submission.csv\")"
   ]
  },
  {
   "cell_type": "markdown",
   "id": "720d8901",
   "metadata": {
    "papermill": {
     "duration": 0.013347,
     "end_time": "2024-08-13T09:29:45.223390",
     "exception": false,
     "start_time": "2024-08-13T09:29:45.210043",
     "status": "completed"
    },
    "tags": []
   },
   "source": [
    "## EDA on Training Dataset\n"
   ]
  },
  {
   "cell_type": "code",
   "execution_count": 4,
   "id": "19c7a68b",
   "metadata": {
    "execution": {
     "iopub.execute_input": "2024-08-13T09:29:45.251773Z",
     "iopub.status.busy": "2024-08-13T09:29:45.251349Z",
     "iopub.status.idle": "2024-08-13T09:29:45.259694Z",
     "shell.execute_reply": "2024-08-13T09:29:45.258521Z"
    },
    "papermill": {
     "duration": 0.02543,
     "end_time": "2024-08-13T09:29:45.262190",
     "exception": false,
     "start_time": "2024-08-13T09:29:45.236760",
     "status": "completed"
    },
    "tags": []
   },
   "outputs": [
    {
     "data": {
      "text/plain": [
       "(3116945, 22)"
      ]
     },
     "execution_count": 4,
     "metadata": {},
     "output_type": "execute_result"
    }
   ],
   "source": [
    "data_train.shape"
   ]
  },
  {
   "cell_type": "code",
   "execution_count": 5,
   "id": "538045c3",
   "metadata": {
    "execution": {
     "iopub.execute_input": "2024-08-13T09:29:45.291364Z",
     "iopub.status.busy": "2024-08-13T09:29:45.290930Z",
     "iopub.status.idle": "2024-08-13T09:29:45.348101Z",
     "shell.execute_reply": "2024-08-13T09:29:45.346559Z"
    },
    "papermill": {
     "duration": 0.075217,
     "end_time": "2024-08-13T09:29:45.351102",
     "exception": false,
     "start_time": "2024-08-13T09:29:45.275885",
     "status": "completed"
    },
    "tags": []
   },
   "outputs": [
    {
     "data": {
      "text/html": [
       "<div>\n",
       "<style scoped>\n",
       "    .dataframe tbody tr th:only-of-type {\n",
       "        vertical-align: middle;\n",
       "    }\n",
       "\n",
       "    .dataframe tbody tr th {\n",
       "        vertical-align: top;\n",
       "    }\n",
       "\n",
       "    .dataframe thead th {\n",
       "        text-align: right;\n",
       "    }\n",
       "</style>\n",
       "<table border=\"1\" class=\"dataframe\">\n",
       "  <thead>\n",
       "    <tr style=\"text-align: right;\">\n",
       "      <th></th>\n",
       "      <th>id</th>\n",
       "      <th>class</th>\n",
       "      <th>cap-diameter</th>\n",
       "      <th>cap-shape</th>\n",
       "      <th>cap-surface</th>\n",
       "      <th>cap-color</th>\n",
       "      <th>does-bruise-or-bleed</th>\n",
       "      <th>gill-attachment</th>\n",
       "      <th>gill-spacing</th>\n",
       "      <th>gill-color</th>\n",
       "      <th>...</th>\n",
       "      <th>stem-root</th>\n",
       "      <th>stem-surface</th>\n",
       "      <th>stem-color</th>\n",
       "      <th>veil-type</th>\n",
       "      <th>veil-color</th>\n",
       "      <th>has-ring</th>\n",
       "      <th>ring-type</th>\n",
       "      <th>spore-print-color</th>\n",
       "      <th>habitat</th>\n",
       "      <th>season</th>\n",
       "    </tr>\n",
       "  </thead>\n",
       "  <tbody>\n",
       "    <tr>\n",
       "      <th>0</th>\n",
       "      <td>0</td>\n",
       "      <td>e</td>\n",
       "      <td>8.80</td>\n",
       "      <td>f</td>\n",
       "      <td>s</td>\n",
       "      <td>u</td>\n",
       "      <td>f</td>\n",
       "      <td>a</td>\n",
       "      <td>c</td>\n",
       "      <td>w</td>\n",
       "      <td>...</td>\n",
       "      <td>NaN</td>\n",
       "      <td>NaN</td>\n",
       "      <td>w</td>\n",
       "      <td>NaN</td>\n",
       "      <td>NaN</td>\n",
       "      <td>f</td>\n",
       "      <td>f</td>\n",
       "      <td>NaN</td>\n",
       "      <td>d</td>\n",
       "      <td>a</td>\n",
       "    </tr>\n",
       "    <tr>\n",
       "      <th>1</th>\n",
       "      <td>1</td>\n",
       "      <td>p</td>\n",
       "      <td>4.51</td>\n",
       "      <td>x</td>\n",
       "      <td>h</td>\n",
       "      <td>o</td>\n",
       "      <td>f</td>\n",
       "      <td>a</td>\n",
       "      <td>c</td>\n",
       "      <td>n</td>\n",
       "      <td>...</td>\n",
       "      <td>NaN</td>\n",
       "      <td>y</td>\n",
       "      <td>o</td>\n",
       "      <td>NaN</td>\n",
       "      <td>NaN</td>\n",
       "      <td>t</td>\n",
       "      <td>z</td>\n",
       "      <td>NaN</td>\n",
       "      <td>d</td>\n",
       "      <td>w</td>\n",
       "    </tr>\n",
       "    <tr>\n",
       "      <th>2</th>\n",
       "      <td>2</td>\n",
       "      <td>e</td>\n",
       "      <td>6.94</td>\n",
       "      <td>f</td>\n",
       "      <td>s</td>\n",
       "      <td>b</td>\n",
       "      <td>f</td>\n",
       "      <td>x</td>\n",
       "      <td>c</td>\n",
       "      <td>w</td>\n",
       "      <td>...</td>\n",
       "      <td>NaN</td>\n",
       "      <td>s</td>\n",
       "      <td>n</td>\n",
       "      <td>NaN</td>\n",
       "      <td>NaN</td>\n",
       "      <td>f</td>\n",
       "      <td>f</td>\n",
       "      <td>NaN</td>\n",
       "      <td>l</td>\n",
       "      <td>w</td>\n",
       "    </tr>\n",
       "    <tr>\n",
       "      <th>3</th>\n",
       "      <td>3</td>\n",
       "      <td>e</td>\n",
       "      <td>3.88</td>\n",
       "      <td>f</td>\n",
       "      <td>y</td>\n",
       "      <td>g</td>\n",
       "      <td>f</td>\n",
       "      <td>s</td>\n",
       "      <td>NaN</td>\n",
       "      <td>g</td>\n",
       "      <td>...</td>\n",
       "      <td>NaN</td>\n",
       "      <td>NaN</td>\n",
       "      <td>w</td>\n",
       "      <td>NaN</td>\n",
       "      <td>NaN</td>\n",
       "      <td>f</td>\n",
       "      <td>f</td>\n",
       "      <td>NaN</td>\n",
       "      <td>d</td>\n",
       "      <td>u</td>\n",
       "    </tr>\n",
       "    <tr>\n",
       "      <th>4</th>\n",
       "      <td>4</td>\n",
       "      <td>e</td>\n",
       "      <td>5.85</td>\n",
       "      <td>x</td>\n",
       "      <td>l</td>\n",
       "      <td>w</td>\n",
       "      <td>f</td>\n",
       "      <td>d</td>\n",
       "      <td>NaN</td>\n",
       "      <td>w</td>\n",
       "      <td>...</td>\n",
       "      <td>NaN</td>\n",
       "      <td>NaN</td>\n",
       "      <td>w</td>\n",
       "      <td>NaN</td>\n",
       "      <td>NaN</td>\n",
       "      <td>f</td>\n",
       "      <td>f</td>\n",
       "      <td>NaN</td>\n",
       "      <td>g</td>\n",
       "      <td>a</td>\n",
       "    </tr>\n",
       "    <tr>\n",
       "      <th>5</th>\n",
       "      <td>5</td>\n",
       "      <td>p</td>\n",
       "      <td>4.30</td>\n",
       "      <td>x</td>\n",
       "      <td>t</td>\n",
       "      <td>n</td>\n",
       "      <td>f</td>\n",
       "      <td>s</td>\n",
       "      <td>c</td>\n",
       "      <td>n</td>\n",
       "      <td>...</td>\n",
       "      <td>NaN</td>\n",
       "      <td>NaN</td>\n",
       "      <td>w</td>\n",
       "      <td>NaN</td>\n",
       "      <td>n</td>\n",
       "      <td>t</td>\n",
       "      <td>z</td>\n",
       "      <td>NaN</td>\n",
       "      <td>d</td>\n",
       "      <td>a</td>\n",
       "    </tr>\n",
       "    <tr>\n",
       "      <th>6</th>\n",
       "      <td>6</td>\n",
       "      <td>e</td>\n",
       "      <td>9.65</td>\n",
       "      <td>p</td>\n",
       "      <td>y</td>\n",
       "      <td>w</td>\n",
       "      <td>f</td>\n",
       "      <td>e</td>\n",
       "      <td>c</td>\n",
       "      <td>k</td>\n",
       "      <td>...</td>\n",
       "      <td>NaN</td>\n",
       "      <td>s</td>\n",
       "      <td>w</td>\n",
       "      <td>NaN</td>\n",
       "      <td>NaN</td>\n",
       "      <td>t</td>\n",
       "      <td>e</td>\n",
       "      <td>NaN</td>\n",
       "      <td>g</td>\n",
       "      <td>w</td>\n",
       "    </tr>\n",
       "    <tr>\n",
       "      <th>7</th>\n",
       "      <td>7</td>\n",
       "      <td>p</td>\n",
       "      <td>4.55</td>\n",
       "      <td>x</td>\n",
       "      <td>e</td>\n",
       "      <td>e</td>\n",
       "      <td>f</td>\n",
       "      <td>a</td>\n",
       "      <td>NaN</td>\n",
       "      <td>y</td>\n",
       "      <td>...</td>\n",
       "      <td>NaN</td>\n",
       "      <td>NaN</td>\n",
       "      <td>y</td>\n",
       "      <td>NaN</td>\n",
       "      <td>w</td>\n",
       "      <td>t</td>\n",
       "      <td>z</td>\n",
       "      <td>NaN</td>\n",
       "      <td>d</td>\n",
       "      <td>a</td>\n",
       "    </tr>\n",
       "    <tr>\n",
       "      <th>8</th>\n",
       "      <td>8</td>\n",
       "      <td>p</td>\n",
       "      <td>7.36</td>\n",
       "      <td>f</td>\n",
       "      <td>h</td>\n",
       "      <td>e</td>\n",
       "      <td>f</td>\n",
       "      <td>x</td>\n",
       "      <td>d</td>\n",
       "      <td>w</td>\n",
       "      <td>...</td>\n",
       "      <td>b</td>\n",
       "      <td>NaN</td>\n",
       "      <td>w</td>\n",
       "      <td>NaN</td>\n",
       "      <td>NaN</td>\n",
       "      <td>f</td>\n",
       "      <td>f</td>\n",
       "      <td>NaN</td>\n",
       "      <td>d</td>\n",
       "      <td>a</td>\n",
       "    </tr>\n",
       "    <tr>\n",
       "      <th>9</th>\n",
       "      <td>9</td>\n",
       "      <td>e</td>\n",
       "      <td>6.45</td>\n",
       "      <td>x</td>\n",
       "      <td>t</td>\n",
       "      <td>n</td>\n",
       "      <td>f</td>\n",
       "      <td>a</td>\n",
       "      <td>d</td>\n",
       "      <td>w</td>\n",
       "      <td>...</td>\n",
       "      <td>NaN</td>\n",
       "      <td>NaN</td>\n",
       "      <td>e</td>\n",
       "      <td>NaN</td>\n",
       "      <td>NaN</td>\n",
       "      <td>f</td>\n",
       "      <td>f</td>\n",
       "      <td>NaN</td>\n",
       "      <td>d</td>\n",
       "      <td>a</td>\n",
       "    </tr>\n",
       "    <tr>\n",
       "      <th>10</th>\n",
       "      <td>10</td>\n",
       "      <td>e</td>\n",
       "      <td>7.49</td>\n",
       "      <td>f</td>\n",
       "      <td>t</td>\n",
       "      <td>n</td>\n",
       "      <td>f</td>\n",
       "      <td>s</td>\n",
       "      <td>NaN</td>\n",
       "      <td>n</td>\n",
       "      <td>...</td>\n",
       "      <td>NaN</td>\n",
       "      <td>t</td>\n",
       "      <td>o</td>\n",
       "      <td>NaN</td>\n",
       "      <td>NaN</td>\n",
       "      <td>f</td>\n",
       "      <td>f</td>\n",
       "      <td>NaN</td>\n",
       "      <td>d</td>\n",
       "      <td>a</td>\n",
       "    </tr>\n",
       "    <tr>\n",
       "      <th>11</th>\n",
       "      <td>11</td>\n",
       "      <td>e</td>\n",
       "      <td>8.30</td>\n",
       "      <td>x</td>\n",
       "      <td>y</td>\n",
       "      <td>n</td>\n",
       "      <td>f</td>\n",
       "      <td>NaN</td>\n",
       "      <td>NaN</td>\n",
       "      <td>w</td>\n",
       "      <td>...</td>\n",
       "      <td>b</td>\n",
       "      <td>NaN</td>\n",
       "      <td>n</td>\n",
       "      <td>NaN</td>\n",
       "      <td>w</td>\n",
       "      <td>t</td>\n",
       "      <td>e</td>\n",
       "      <td>NaN</td>\n",
       "      <td>d</td>\n",
       "      <td>w</td>\n",
       "    </tr>\n",
       "    <tr>\n",
       "      <th>12</th>\n",
       "      <td>12</td>\n",
       "      <td>e</td>\n",
       "      <td>2.74</td>\n",
       "      <td>b</td>\n",
       "      <td>g</td>\n",
       "      <td>n</td>\n",
       "      <td>f</td>\n",
       "      <td>a</td>\n",
       "      <td>d</td>\n",
       "      <td>g</td>\n",
       "      <td>...</td>\n",
       "      <td>NaN</td>\n",
       "      <td>s</td>\n",
       "      <td>n</td>\n",
       "      <td>NaN</td>\n",
       "      <td>NaN</td>\n",
       "      <td>f</td>\n",
       "      <td>f</td>\n",
       "      <td>NaN</td>\n",
       "      <td>d</td>\n",
       "      <td>s</td>\n",
       "    </tr>\n",
       "    <tr>\n",
       "      <th>13</th>\n",
       "      <td>13</td>\n",
       "      <td>e</td>\n",
       "      <td>6.53</td>\n",
       "      <td>x</td>\n",
       "      <td>y</td>\n",
       "      <td>n</td>\n",
       "      <td>f</td>\n",
       "      <td>e</td>\n",
       "      <td>c</td>\n",
       "      <td>w</td>\n",
       "      <td>...</td>\n",
       "      <td>NaN</td>\n",
       "      <td>y</td>\n",
       "      <td>n</td>\n",
       "      <td>NaN</td>\n",
       "      <td>NaN</td>\n",
       "      <td>f</td>\n",
       "      <td>f</td>\n",
       "      <td>NaN</td>\n",
       "      <td>d</td>\n",
       "      <td>a</td>\n",
       "    </tr>\n",
       "    <tr>\n",
       "      <th>14</th>\n",
       "      <td>14</td>\n",
       "      <td>p</td>\n",
       "      <td>3.91</td>\n",
       "      <td>b</td>\n",
       "      <td>t</td>\n",
       "      <td>n</td>\n",
       "      <td>f</td>\n",
       "      <td>NaN</td>\n",
       "      <td>NaN</td>\n",
       "      <td>n</td>\n",
       "      <td>...</td>\n",
       "      <td>NaN</td>\n",
       "      <td>NaN</td>\n",
       "      <td>w</td>\n",
       "      <td>NaN</td>\n",
       "      <td>NaN</td>\n",
       "      <td>t</td>\n",
       "      <td>NaN</td>\n",
       "      <td>k</td>\n",
       "      <td>g</td>\n",
       "      <td>u</td>\n",
       "    </tr>\n",
       "    <tr>\n",
       "      <th>15</th>\n",
       "      <td>15</td>\n",
       "      <td>p</td>\n",
       "      <td>2.82</td>\n",
       "      <td>o</td>\n",
       "      <td>NaN</td>\n",
       "      <td>n</td>\n",
       "      <td>f</td>\n",
       "      <td>f</td>\n",
       "      <td>f</td>\n",
       "      <td>f</td>\n",
       "      <td>...</td>\n",
       "      <td>NaN</td>\n",
       "      <td>g</td>\n",
       "      <td>n</td>\n",
       "      <td>NaN</td>\n",
       "      <td>NaN</td>\n",
       "      <td>f</td>\n",
       "      <td>f</td>\n",
       "      <td>NaN</td>\n",
       "      <td>d</td>\n",
       "      <td>u</td>\n",
       "    </tr>\n",
       "    <tr>\n",
       "      <th>16</th>\n",
       "      <td>16</td>\n",
       "      <td>p</td>\n",
       "      <td>7.65</td>\n",
       "      <td>x</td>\n",
       "      <td>g</td>\n",
       "      <td>n</td>\n",
       "      <td>f</td>\n",
       "      <td>e</td>\n",
       "      <td>NaN</td>\n",
       "      <td>w</td>\n",
       "      <td>...</td>\n",
       "      <td>NaN</td>\n",
       "      <td>y</td>\n",
       "      <td>w</td>\n",
       "      <td>u</td>\n",
       "      <td>w</td>\n",
       "      <td>t</td>\n",
       "      <td>p</td>\n",
       "      <td>NaN</td>\n",
       "      <td>d</td>\n",
       "      <td>a</td>\n",
       "    </tr>\n",
       "    <tr>\n",
       "      <th>17</th>\n",
       "      <td>17</td>\n",
       "      <td>p</td>\n",
       "      <td>9.87</td>\n",
       "      <td>p</td>\n",
       "      <td>NaN</td>\n",
       "      <td>n</td>\n",
       "      <td>f</td>\n",
       "      <td>p</td>\n",
       "      <td>NaN</td>\n",
       "      <td>p</td>\n",
       "      <td>...</td>\n",
       "      <td>c</td>\n",
       "      <td>NaN</td>\n",
       "      <td>n</td>\n",
       "      <td>NaN</td>\n",
       "      <td>NaN</td>\n",
       "      <td>f</td>\n",
       "      <td>f</td>\n",
       "      <td>w</td>\n",
       "      <td>d</td>\n",
       "      <td>u</td>\n",
       "    </tr>\n",
       "    <tr>\n",
       "      <th>18</th>\n",
       "      <td>18</td>\n",
       "      <td>e</td>\n",
       "      <td>0.74</td>\n",
       "      <td>c</td>\n",
       "      <td>g</td>\n",
       "      <td>e</td>\n",
       "      <td>t</td>\n",
       "      <td>a</td>\n",
       "      <td>NaN</td>\n",
       "      <td>p</td>\n",
       "      <td>...</td>\n",
       "      <td>NaN</td>\n",
       "      <td>NaN</td>\n",
       "      <td>n</td>\n",
       "      <td>NaN</td>\n",
       "      <td>NaN</td>\n",
       "      <td>f</td>\n",
       "      <td>f</td>\n",
       "      <td>NaN</td>\n",
       "      <td>h</td>\n",
       "      <td>u</td>\n",
       "    </tr>\n",
       "    <tr>\n",
       "      <th>19</th>\n",
       "      <td>19</td>\n",
       "      <td>p</td>\n",
       "      <td>7.43</td>\n",
       "      <td>s</td>\n",
       "      <td>d</td>\n",
       "      <td>n</td>\n",
       "      <td>t</td>\n",
       "      <td>d</td>\n",
       "      <td>c</td>\n",
       "      <td>y</td>\n",
       "      <td>...</td>\n",
       "      <td>NaN</td>\n",
       "      <td>NaN</td>\n",
       "      <td>e</td>\n",
       "      <td>NaN</td>\n",
       "      <td>NaN</td>\n",
       "      <td>f</td>\n",
       "      <td>f</td>\n",
       "      <td>NaN</td>\n",
       "      <td>d</td>\n",
       "      <td>a</td>\n",
       "    </tr>\n",
       "  </tbody>\n",
       "</table>\n",
       "<p>20 rows × 22 columns</p>\n",
       "</div>"
      ],
      "text/plain": [
       "    id class  cap-diameter cap-shape cap-surface cap-color  \\\n",
       "0    0     e          8.80         f           s         u   \n",
       "1    1     p          4.51         x           h         o   \n",
       "2    2     e          6.94         f           s         b   \n",
       "3    3     e          3.88         f           y         g   \n",
       "4    4     e          5.85         x           l         w   \n",
       "5    5     p          4.30         x           t         n   \n",
       "6    6     e          9.65         p           y         w   \n",
       "7    7     p          4.55         x           e         e   \n",
       "8    8     p          7.36         f           h         e   \n",
       "9    9     e          6.45         x           t         n   \n",
       "10  10     e          7.49         f           t         n   \n",
       "11  11     e          8.30         x           y         n   \n",
       "12  12     e          2.74         b           g         n   \n",
       "13  13     e          6.53         x           y         n   \n",
       "14  14     p          3.91         b           t         n   \n",
       "15  15     p          2.82         o         NaN         n   \n",
       "16  16     p          7.65         x           g         n   \n",
       "17  17     p          9.87         p         NaN         n   \n",
       "18  18     e          0.74         c           g         e   \n",
       "19  19     p          7.43         s           d         n   \n",
       "\n",
       "   does-bruise-or-bleed gill-attachment gill-spacing gill-color  ...  \\\n",
       "0                     f               a            c          w  ...   \n",
       "1                     f               a            c          n  ...   \n",
       "2                     f               x            c          w  ...   \n",
       "3                     f               s          NaN          g  ...   \n",
       "4                     f               d          NaN          w  ...   \n",
       "5                     f               s            c          n  ...   \n",
       "6                     f               e            c          k  ...   \n",
       "7                     f               a          NaN          y  ...   \n",
       "8                     f               x            d          w  ...   \n",
       "9                     f               a            d          w  ...   \n",
       "10                    f               s          NaN          n  ...   \n",
       "11                    f             NaN          NaN          w  ...   \n",
       "12                    f               a            d          g  ...   \n",
       "13                    f               e            c          w  ...   \n",
       "14                    f             NaN          NaN          n  ...   \n",
       "15                    f               f            f          f  ...   \n",
       "16                    f               e          NaN          w  ...   \n",
       "17                    f               p          NaN          p  ...   \n",
       "18                    t               a          NaN          p  ...   \n",
       "19                    t               d            c          y  ...   \n",
       "\n",
       "    stem-root  stem-surface stem-color veil-type veil-color has-ring  \\\n",
       "0         NaN           NaN          w       NaN        NaN        f   \n",
       "1         NaN             y          o       NaN        NaN        t   \n",
       "2         NaN             s          n       NaN        NaN        f   \n",
       "3         NaN           NaN          w       NaN        NaN        f   \n",
       "4         NaN           NaN          w       NaN        NaN        f   \n",
       "5         NaN           NaN          w       NaN          n        t   \n",
       "6         NaN             s          w       NaN        NaN        t   \n",
       "7         NaN           NaN          y       NaN          w        t   \n",
       "8           b           NaN          w       NaN        NaN        f   \n",
       "9         NaN           NaN          e       NaN        NaN        f   \n",
       "10        NaN             t          o       NaN        NaN        f   \n",
       "11          b           NaN          n       NaN          w        t   \n",
       "12        NaN             s          n       NaN        NaN        f   \n",
       "13        NaN             y          n       NaN        NaN        f   \n",
       "14        NaN           NaN          w       NaN        NaN        t   \n",
       "15        NaN             g          n       NaN        NaN        f   \n",
       "16        NaN             y          w         u          w        t   \n",
       "17          c           NaN          n       NaN        NaN        f   \n",
       "18        NaN           NaN          n       NaN        NaN        f   \n",
       "19        NaN           NaN          e       NaN        NaN        f   \n",
       "\n",
       "   ring-type spore-print-color habitat season  \n",
       "0          f               NaN       d      a  \n",
       "1          z               NaN       d      w  \n",
       "2          f               NaN       l      w  \n",
       "3          f               NaN       d      u  \n",
       "4          f               NaN       g      a  \n",
       "5          z               NaN       d      a  \n",
       "6          e               NaN       g      w  \n",
       "7          z               NaN       d      a  \n",
       "8          f               NaN       d      a  \n",
       "9          f               NaN       d      a  \n",
       "10         f               NaN       d      a  \n",
       "11         e               NaN       d      w  \n",
       "12         f               NaN       d      s  \n",
       "13         f               NaN       d      a  \n",
       "14       NaN                 k       g      u  \n",
       "15         f               NaN       d      u  \n",
       "16         p               NaN       d      a  \n",
       "17         f                 w       d      u  \n",
       "18         f               NaN       h      u  \n",
       "19         f               NaN       d      a  \n",
       "\n",
       "[20 rows x 22 columns]"
      ]
     },
     "execution_count": 5,
     "metadata": {},
     "output_type": "execute_result"
    }
   ],
   "source": [
    "data_train.head(20)"
   ]
  },
  {
   "cell_type": "code",
   "execution_count": 6,
   "id": "5f35d9e3",
   "metadata": {
    "execution": {
     "iopub.execute_input": "2024-08-13T09:29:45.382341Z",
     "iopub.status.busy": "2024-08-13T09:29:45.381910Z",
     "iopub.status.idle": "2024-08-13T09:29:45.404402Z",
     "shell.execute_reply": "2024-08-13T09:29:45.403253Z"
    },
    "papermill": {
     "duration": 0.041394,
     "end_time": "2024-08-13T09:29:45.407258",
     "exception": false,
     "start_time": "2024-08-13T09:29:45.365864",
     "status": "completed"
    },
    "tags": []
   },
   "outputs": [
    {
     "name": "stdout",
     "output_type": "stream",
     "text": [
      "<class 'pandas.core.frame.DataFrame'>\n",
      "RangeIndex: 3116945 entries, 0 to 3116944\n",
      "Data columns (total 22 columns):\n",
      " #   Column                Dtype  \n",
      "---  ------                -----  \n",
      " 0   id                    int64  \n",
      " 1   class                 object \n",
      " 2   cap-diameter          float64\n",
      " 3   cap-shape             object \n",
      " 4   cap-surface           object \n",
      " 5   cap-color             object \n",
      " 6   does-bruise-or-bleed  object \n",
      " 7   gill-attachment       object \n",
      " 8   gill-spacing          object \n",
      " 9   gill-color            object \n",
      " 10  stem-height           float64\n",
      " 11  stem-width            float64\n",
      " 12  stem-root             object \n",
      " 13  stem-surface          object \n",
      " 14  stem-color            object \n",
      " 15  veil-type             object \n",
      " 16  veil-color            object \n",
      " 17  has-ring              object \n",
      " 18  ring-type             object \n",
      " 19  spore-print-color     object \n",
      " 20  habitat               object \n",
      " 21  season                object \n",
      "dtypes: float64(3), int64(1), object(18)\n",
      "memory usage: 523.2+ MB\n"
     ]
    }
   ],
   "source": [
    "data_train.info()"
   ]
  },
  {
   "cell_type": "code",
   "execution_count": 7,
   "id": "91bb580c",
   "metadata": {
    "execution": {
     "iopub.execute_input": "2024-08-13T09:29:45.439258Z",
     "iopub.status.busy": "2024-08-13T09:29:45.438499Z",
     "iopub.status.idle": "2024-08-13T09:29:57.150437Z",
     "shell.execute_reply": "2024-08-13T09:29:57.149131Z"
    },
    "papermill": {
     "duration": 11.730745,
     "end_time": "2024-08-13T09:29:57.153166",
     "exception": false,
     "start_time": "2024-08-13T09:29:45.422421",
     "status": "completed"
    },
    "tags": []
   },
   "outputs": [
    {
     "data": {
      "text/html": [
       "<div>\n",
       "<style scoped>\n",
       "    .dataframe tbody tr th:only-of-type {\n",
       "        vertical-align: middle;\n",
       "    }\n",
       "\n",
       "    .dataframe tbody tr th {\n",
       "        vertical-align: top;\n",
       "    }\n",
       "\n",
       "    .dataframe thead th {\n",
       "        text-align: right;\n",
       "    }\n",
       "</style>\n",
       "<table border=\"1\" class=\"dataframe\">\n",
       "  <thead>\n",
       "    <tr style=\"text-align: right;\">\n",
       "      <th></th>\n",
       "      <th>id</th>\n",
       "      <th>class</th>\n",
       "      <th>cap-diameter</th>\n",
       "      <th>cap-shape</th>\n",
       "      <th>cap-surface</th>\n",
       "      <th>cap-color</th>\n",
       "      <th>does-bruise-or-bleed</th>\n",
       "      <th>gill-attachment</th>\n",
       "      <th>gill-spacing</th>\n",
       "      <th>gill-color</th>\n",
       "      <th>...</th>\n",
       "      <th>stem-root</th>\n",
       "      <th>stem-surface</th>\n",
       "      <th>stem-color</th>\n",
       "      <th>veil-type</th>\n",
       "      <th>veil-color</th>\n",
       "      <th>has-ring</th>\n",
       "      <th>ring-type</th>\n",
       "      <th>spore-print-color</th>\n",
       "      <th>habitat</th>\n",
       "      <th>season</th>\n",
       "    </tr>\n",
       "  </thead>\n",
       "  <tbody>\n",
       "    <tr>\n",
       "      <th>count</th>\n",
       "      <td>3.116945e+06</td>\n",
       "      <td>3116945</td>\n",
       "      <td>3.116941e+06</td>\n",
       "      <td>3116905</td>\n",
       "      <td>2445922</td>\n",
       "      <td>3116933</td>\n",
       "      <td>3116937</td>\n",
       "      <td>2593009</td>\n",
       "      <td>1858510</td>\n",
       "      <td>3116888</td>\n",
       "      <td>...</td>\n",
       "      <td>359922</td>\n",
       "      <td>1136084</td>\n",
       "      <td>3116907</td>\n",
       "      <td>159452</td>\n",
       "      <td>375998</td>\n",
       "      <td>3116921</td>\n",
       "      <td>2988065</td>\n",
       "      <td>267263</td>\n",
       "      <td>3116900</td>\n",
       "      <td>3116945</td>\n",
       "    </tr>\n",
       "    <tr>\n",
       "      <th>unique</th>\n",
       "      <td>NaN</td>\n",
       "      <td>2</td>\n",
       "      <td>NaN</td>\n",
       "      <td>74</td>\n",
       "      <td>83</td>\n",
       "      <td>78</td>\n",
       "      <td>26</td>\n",
       "      <td>78</td>\n",
       "      <td>48</td>\n",
       "      <td>63</td>\n",
       "      <td>...</td>\n",
       "      <td>38</td>\n",
       "      <td>60</td>\n",
       "      <td>59</td>\n",
       "      <td>22</td>\n",
       "      <td>24</td>\n",
       "      <td>23</td>\n",
       "      <td>40</td>\n",
       "      <td>32</td>\n",
       "      <td>52</td>\n",
       "      <td>4</td>\n",
       "    </tr>\n",
       "    <tr>\n",
       "      <th>top</th>\n",
       "      <td>NaN</td>\n",
       "      <td>p</td>\n",
       "      <td>NaN</td>\n",
       "      <td>x</td>\n",
       "      <td>t</td>\n",
       "      <td>n</td>\n",
       "      <td>f</td>\n",
       "      <td>a</td>\n",
       "      <td>c</td>\n",
       "      <td>w</td>\n",
       "      <td>...</td>\n",
       "      <td>b</td>\n",
       "      <td>s</td>\n",
       "      <td>w</td>\n",
       "      <td>u</td>\n",
       "      <td>w</td>\n",
       "      <td>f</td>\n",
       "      <td>f</td>\n",
       "      <td>k</td>\n",
       "      <td>d</td>\n",
       "      <td>a</td>\n",
       "    </tr>\n",
       "    <tr>\n",
       "      <th>freq</th>\n",
       "      <td>NaN</td>\n",
       "      <td>1705396</td>\n",
       "      <td>NaN</td>\n",
       "      <td>1436026</td>\n",
       "      <td>460777</td>\n",
       "      <td>1359542</td>\n",
       "      <td>2569743</td>\n",
       "      <td>646034</td>\n",
       "      <td>1331054</td>\n",
       "      <td>931538</td>\n",
       "      <td>...</td>\n",
       "      <td>165801</td>\n",
       "      <td>327610</td>\n",
       "      <td>1196637</td>\n",
       "      <td>159373</td>\n",
       "      <td>279070</td>\n",
       "      <td>2368820</td>\n",
       "      <td>2477170</td>\n",
       "      <td>107310</td>\n",
       "      <td>2177573</td>\n",
       "      <td>1543321</td>\n",
       "    </tr>\n",
       "    <tr>\n",
       "      <th>mean</th>\n",
       "      <td>1.558472e+06</td>\n",
       "      <td>NaN</td>\n",
       "      <td>6.309848e+00</td>\n",
       "      <td>NaN</td>\n",
       "      <td>NaN</td>\n",
       "      <td>NaN</td>\n",
       "      <td>NaN</td>\n",
       "      <td>NaN</td>\n",
       "      <td>NaN</td>\n",
       "      <td>NaN</td>\n",
       "      <td>...</td>\n",
       "      <td>NaN</td>\n",
       "      <td>NaN</td>\n",
       "      <td>NaN</td>\n",
       "      <td>NaN</td>\n",
       "      <td>NaN</td>\n",
       "      <td>NaN</td>\n",
       "      <td>NaN</td>\n",
       "      <td>NaN</td>\n",
       "      <td>NaN</td>\n",
       "      <td>NaN</td>\n",
       "    </tr>\n",
       "    <tr>\n",
       "      <th>std</th>\n",
       "      <td>8.997847e+05</td>\n",
       "      <td>NaN</td>\n",
       "      <td>4.657931e+00</td>\n",
       "      <td>NaN</td>\n",
       "      <td>NaN</td>\n",
       "      <td>NaN</td>\n",
       "      <td>NaN</td>\n",
       "      <td>NaN</td>\n",
       "      <td>NaN</td>\n",
       "      <td>NaN</td>\n",
       "      <td>...</td>\n",
       "      <td>NaN</td>\n",
       "      <td>NaN</td>\n",
       "      <td>NaN</td>\n",
       "      <td>NaN</td>\n",
       "      <td>NaN</td>\n",
       "      <td>NaN</td>\n",
       "      <td>NaN</td>\n",
       "      <td>NaN</td>\n",
       "      <td>NaN</td>\n",
       "      <td>NaN</td>\n",
       "    </tr>\n",
       "    <tr>\n",
       "      <th>min</th>\n",
       "      <td>0.000000e+00</td>\n",
       "      <td>NaN</td>\n",
       "      <td>3.000000e-02</td>\n",
       "      <td>NaN</td>\n",
       "      <td>NaN</td>\n",
       "      <td>NaN</td>\n",
       "      <td>NaN</td>\n",
       "      <td>NaN</td>\n",
       "      <td>NaN</td>\n",
       "      <td>NaN</td>\n",
       "      <td>...</td>\n",
       "      <td>NaN</td>\n",
       "      <td>NaN</td>\n",
       "      <td>NaN</td>\n",
       "      <td>NaN</td>\n",
       "      <td>NaN</td>\n",
       "      <td>NaN</td>\n",
       "      <td>NaN</td>\n",
       "      <td>NaN</td>\n",
       "      <td>NaN</td>\n",
       "      <td>NaN</td>\n",
       "    </tr>\n",
       "    <tr>\n",
       "      <th>25%</th>\n",
       "      <td>7.792360e+05</td>\n",
       "      <td>NaN</td>\n",
       "      <td>3.320000e+00</td>\n",
       "      <td>NaN</td>\n",
       "      <td>NaN</td>\n",
       "      <td>NaN</td>\n",
       "      <td>NaN</td>\n",
       "      <td>NaN</td>\n",
       "      <td>NaN</td>\n",
       "      <td>NaN</td>\n",
       "      <td>...</td>\n",
       "      <td>NaN</td>\n",
       "      <td>NaN</td>\n",
       "      <td>NaN</td>\n",
       "      <td>NaN</td>\n",
       "      <td>NaN</td>\n",
       "      <td>NaN</td>\n",
       "      <td>NaN</td>\n",
       "      <td>NaN</td>\n",
       "      <td>NaN</td>\n",
       "      <td>NaN</td>\n",
       "    </tr>\n",
       "    <tr>\n",
       "      <th>50%</th>\n",
       "      <td>1.558472e+06</td>\n",
       "      <td>NaN</td>\n",
       "      <td>5.750000e+00</td>\n",
       "      <td>NaN</td>\n",
       "      <td>NaN</td>\n",
       "      <td>NaN</td>\n",
       "      <td>NaN</td>\n",
       "      <td>NaN</td>\n",
       "      <td>NaN</td>\n",
       "      <td>NaN</td>\n",
       "      <td>...</td>\n",
       "      <td>NaN</td>\n",
       "      <td>NaN</td>\n",
       "      <td>NaN</td>\n",
       "      <td>NaN</td>\n",
       "      <td>NaN</td>\n",
       "      <td>NaN</td>\n",
       "      <td>NaN</td>\n",
       "      <td>NaN</td>\n",
       "      <td>NaN</td>\n",
       "      <td>NaN</td>\n",
       "    </tr>\n",
       "    <tr>\n",
       "      <th>75%</th>\n",
       "      <td>2.337708e+06</td>\n",
       "      <td>NaN</td>\n",
       "      <td>8.240000e+00</td>\n",
       "      <td>NaN</td>\n",
       "      <td>NaN</td>\n",
       "      <td>NaN</td>\n",
       "      <td>NaN</td>\n",
       "      <td>NaN</td>\n",
       "      <td>NaN</td>\n",
       "      <td>NaN</td>\n",
       "      <td>...</td>\n",
       "      <td>NaN</td>\n",
       "      <td>NaN</td>\n",
       "      <td>NaN</td>\n",
       "      <td>NaN</td>\n",
       "      <td>NaN</td>\n",
       "      <td>NaN</td>\n",
       "      <td>NaN</td>\n",
       "      <td>NaN</td>\n",
       "      <td>NaN</td>\n",
       "      <td>NaN</td>\n",
       "    </tr>\n",
       "    <tr>\n",
       "      <th>max</th>\n",
       "      <td>3.116944e+06</td>\n",
       "      <td>NaN</td>\n",
       "      <td>8.067000e+01</td>\n",
       "      <td>NaN</td>\n",
       "      <td>NaN</td>\n",
       "      <td>NaN</td>\n",
       "      <td>NaN</td>\n",
       "      <td>NaN</td>\n",
       "      <td>NaN</td>\n",
       "      <td>NaN</td>\n",
       "      <td>...</td>\n",
       "      <td>NaN</td>\n",
       "      <td>NaN</td>\n",
       "      <td>NaN</td>\n",
       "      <td>NaN</td>\n",
       "      <td>NaN</td>\n",
       "      <td>NaN</td>\n",
       "      <td>NaN</td>\n",
       "      <td>NaN</td>\n",
       "      <td>NaN</td>\n",
       "      <td>NaN</td>\n",
       "    </tr>\n",
       "  </tbody>\n",
       "</table>\n",
       "<p>11 rows × 22 columns</p>\n",
       "</div>"
      ],
      "text/plain": [
       "                  id    class  cap-diameter cap-shape cap-surface cap-color  \\\n",
       "count   3.116945e+06  3116945  3.116941e+06   3116905     2445922   3116933   \n",
       "unique           NaN        2           NaN        74          83        78   \n",
       "top              NaN        p           NaN         x           t         n   \n",
       "freq             NaN  1705396           NaN   1436026      460777   1359542   \n",
       "mean    1.558472e+06      NaN  6.309848e+00       NaN         NaN       NaN   \n",
       "std     8.997847e+05      NaN  4.657931e+00       NaN         NaN       NaN   \n",
       "min     0.000000e+00      NaN  3.000000e-02       NaN         NaN       NaN   \n",
       "25%     7.792360e+05      NaN  3.320000e+00       NaN         NaN       NaN   \n",
       "50%     1.558472e+06      NaN  5.750000e+00       NaN         NaN       NaN   \n",
       "75%     2.337708e+06      NaN  8.240000e+00       NaN         NaN       NaN   \n",
       "max     3.116944e+06      NaN  8.067000e+01       NaN         NaN       NaN   \n",
       "\n",
       "       does-bruise-or-bleed gill-attachment gill-spacing gill-color  ...  \\\n",
       "count               3116937         2593009      1858510    3116888  ...   \n",
       "unique                   26              78           48         63  ...   \n",
       "top                       f               a            c          w  ...   \n",
       "freq                2569743          646034      1331054     931538  ...   \n",
       "mean                    NaN             NaN          NaN        NaN  ...   \n",
       "std                     NaN             NaN          NaN        NaN  ...   \n",
       "min                     NaN             NaN          NaN        NaN  ...   \n",
       "25%                     NaN             NaN          NaN        NaN  ...   \n",
       "50%                     NaN             NaN          NaN        NaN  ...   \n",
       "75%                     NaN             NaN          NaN        NaN  ...   \n",
       "max                     NaN             NaN          NaN        NaN  ...   \n",
       "\n",
       "        stem-root  stem-surface stem-color veil-type veil-color has-ring  \\\n",
       "count      359922       1136084    3116907    159452     375998  3116921   \n",
       "unique         38            60         59        22         24       23   \n",
       "top             b             s          w         u          w        f   \n",
       "freq       165801        327610    1196637    159373     279070  2368820   \n",
       "mean          NaN           NaN        NaN       NaN        NaN      NaN   \n",
       "std           NaN           NaN        NaN       NaN        NaN      NaN   \n",
       "min           NaN           NaN        NaN       NaN        NaN      NaN   \n",
       "25%           NaN           NaN        NaN       NaN        NaN      NaN   \n",
       "50%           NaN           NaN        NaN       NaN        NaN      NaN   \n",
       "75%           NaN           NaN        NaN       NaN        NaN      NaN   \n",
       "max           NaN           NaN        NaN       NaN        NaN      NaN   \n",
       "\n",
       "       ring-type spore-print-color  habitat   season  \n",
       "count    2988065            267263  3116900  3116945  \n",
       "unique        40                32       52        4  \n",
       "top            f                 k        d        a  \n",
       "freq     2477170            107310  2177573  1543321  \n",
       "mean         NaN               NaN      NaN      NaN  \n",
       "std          NaN               NaN      NaN      NaN  \n",
       "min          NaN               NaN      NaN      NaN  \n",
       "25%          NaN               NaN      NaN      NaN  \n",
       "50%          NaN               NaN      NaN      NaN  \n",
       "75%          NaN               NaN      NaN      NaN  \n",
       "max          NaN               NaN      NaN      NaN  \n",
       "\n",
       "[11 rows x 22 columns]"
      ]
     },
     "execution_count": 7,
     "metadata": {},
     "output_type": "execute_result"
    }
   ],
   "source": [
    "data_train.describe(include = 'all')"
   ]
  },
  {
   "cell_type": "code",
   "execution_count": 8,
   "id": "bf387328",
   "metadata": {
    "execution": {
     "iopub.execute_input": "2024-08-13T09:29:57.186552Z",
     "iopub.status.busy": "2024-08-13T09:29:57.186116Z",
     "iopub.status.idle": "2024-08-13T09:30:02.230853Z",
     "shell.execute_reply": "2024-08-13T09:30:02.229334Z"
    },
    "papermill": {
     "duration": 5.064395,
     "end_time": "2024-08-13T09:30:02.233959",
     "exception": false,
     "start_time": "2024-08-13T09:29:57.169564",
     "status": "completed"
    },
    "tags": []
   },
   "outputs": [
    {
     "data": {
      "text/plain": [
       "id                            0\n",
       "class                         0\n",
       "cap-diameter                  4\n",
       "cap-shape                    40\n",
       "cap-surface              671023\n",
       "cap-color                    12\n",
       "does-bruise-or-bleed          8\n",
       "gill-attachment          523936\n",
       "gill-spacing            1258435\n",
       "gill-color                   57\n",
       "stem-height                   0\n",
       "stem-width                    0\n",
       "stem-root               2757023\n",
       "stem-surface            1980861\n",
       "stem-color                   38\n",
       "veil-type               2957493\n",
       "veil-color              2740947\n",
       "has-ring                     24\n",
       "ring-type                128880\n",
       "spore-print-color       2849682\n",
       "habitat                      45\n",
       "season                        0\n",
       "dtype: int64"
      ]
     },
     "execution_count": 8,
     "metadata": {},
     "output_type": "execute_result"
    }
   ],
   "source": [
    "data_train.isna().sum()"
   ]
  },
  {
   "cell_type": "code",
   "execution_count": null,
   "id": "23fcfd6d",
   "metadata": {
    "papermill": {
     "duration": 0.015901,
     "end_time": "2024-08-13T09:30:02.266099",
     "exception": false,
     "start_time": "2024-08-13T09:30:02.250198",
     "status": "completed"
    },
    "tags": []
   },
   "outputs": [],
   "source": []
  },
  {
   "cell_type": "markdown",
   "id": "4e0453bd",
   "metadata": {
    "papermill": {
     "duration": 0.015331,
     "end_time": "2024-08-13T09:30:02.297523",
     "exception": false,
     "start_time": "2024-08-13T09:30:02.282192",
     "status": "completed"
    },
    "tags": []
   },
   "source": [
    "## EDA on Testing Dataset"
   ]
  },
  {
   "cell_type": "code",
   "execution_count": 9,
   "id": "c06d9e9c",
   "metadata": {
    "execution": {
     "iopub.execute_input": "2024-08-13T09:30:02.331322Z",
     "iopub.status.busy": "2024-08-13T09:30:02.330441Z",
     "iopub.status.idle": "2024-08-13T09:30:02.338441Z",
     "shell.execute_reply": "2024-08-13T09:30:02.336747Z"
    },
    "papermill": {
     "duration": 0.027327,
     "end_time": "2024-08-13T09:30:02.341005",
     "exception": false,
     "start_time": "2024-08-13T09:30:02.313678",
     "status": "completed"
    },
    "tags": []
   },
   "outputs": [
    {
     "data": {
      "text/plain": [
       "(2077964, 21)"
      ]
     },
     "execution_count": 9,
     "metadata": {},
     "output_type": "execute_result"
    }
   ],
   "source": [
    "data_test.shape"
   ]
  },
  {
   "cell_type": "code",
   "execution_count": 10,
   "id": "1a8e1a01",
   "metadata": {
    "execution": {
     "iopub.execute_input": "2024-08-13T09:30:02.374572Z",
     "iopub.status.busy": "2024-08-13T09:30:02.374138Z",
     "iopub.status.idle": "2024-08-13T09:30:02.386749Z",
     "shell.execute_reply": "2024-08-13T09:30:02.385686Z"
    },
    "papermill": {
     "duration": 0.032363,
     "end_time": "2024-08-13T09:30:02.389529",
     "exception": false,
     "start_time": "2024-08-13T09:30:02.357166",
     "status": "completed"
    },
    "tags": []
   },
   "outputs": [
    {
     "name": "stdout",
     "output_type": "stream",
     "text": [
      "<class 'pandas.core.frame.DataFrame'>\n",
      "RangeIndex: 2077964 entries, 0 to 2077963\n",
      "Data columns (total 21 columns):\n",
      " #   Column                Dtype  \n",
      "---  ------                -----  \n",
      " 0   id                    int64  \n",
      " 1   cap-diameter          float64\n",
      " 2   cap-shape             object \n",
      " 3   cap-surface           object \n",
      " 4   cap-color             object \n",
      " 5   does-bruise-or-bleed  object \n",
      " 6   gill-attachment       object \n",
      " 7   gill-spacing          object \n",
      " 8   gill-color            object \n",
      " 9   stem-height           float64\n",
      " 10  stem-width            float64\n",
      " 11  stem-root             object \n",
      " 12  stem-surface          object \n",
      " 13  stem-color            object \n",
      " 14  veil-type             object \n",
      " 15  veil-color            object \n",
      " 16  has-ring              object \n",
      " 17  ring-type             object \n",
      " 18  spore-print-color     object \n",
      " 19  habitat               object \n",
      " 20  season                object \n",
      "dtypes: float64(3), int64(1), object(17)\n",
      "memory usage: 332.9+ MB\n"
     ]
    }
   ],
   "source": [
    "data_test.info()"
   ]
  },
  {
   "cell_type": "markdown",
   "id": "028d0905",
   "metadata": {
    "papermill": {
     "duration": 0.015804,
     "end_time": "2024-08-13T09:30:02.421059",
     "exception": false,
     "start_time": "2024-08-13T09:30:02.405255",
     "status": "completed"
    },
    "tags": []
   },
   "source": [
    "## EDA on Sample_submission Dataset"
   ]
  },
  {
   "cell_type": "code",
   "execution_count": 11,
   "id": "19483f78",
   "metadata": {
    "execution": {
     "iopub.execute_input": "2024-08-13T09:30:02.455395Z",
     "iopub.status.busy": "2024-08-13T09:30:02.454935Z",
     "iopub.status.idle": "2024-08-13T09:30:02.462318Z",
     "shell.execute_reply": "2024-08-13T09:30:02.461251Z"
    },
    "papermill": {
     "duration": 0.027441,
     "end_time": "2024-08-13T09:30:02.465080",
     "exception": false,
     "start_time": "2024-08-13T09:30:02.437639",
     "status": "completed"
    },
    "tags": []
   },
   "outputs": [
    {
     "data": {
      "text/plain": [
       "(2077964, 2)"
      ]
     },
     "execution_count": 11,
     "metadata": {},
     "output_type": "execute_result"
    }
   ],
   "source": [
    "data_sample_sub.shape"
   ]
  },
  {
   "cell_type": "markdown",
   "id": "723eee1d",
   "metadata": {
    "papermill": {
     "duration": 0.015935,
     "end_time": "2024-08-13T09:30:02.497101",
     "exception": false,
     "start_time": "2024-08-13T09:30:02.481166",
     "status": "completed"
    },
    "tags": []
   },
   "source": [
    "# Pre-Processing Datasets"
   ]
  },
  {
   "cell_type": "code",
   "execution_count": 12,
   "id": "05c844a5",
   "metadata": {
    "execution": {
     "iopub.execute_input": "2024-08-13T09:30:02.531385Z",
     "iopub.status.busy": "2024-08-13T09:30:02.530996Z",
     "iopub.status.idle": "2024-08-13T09:30:12.669420Z",
     "shell.execute_reply": "2024-08-13T09:30:12.668314Z"
    },
    "papermill": {
     "duration": 10.158852,
     "end_time": "2024-08-13T09:30:12.672003",
     "exception": false,
     "start_time": "2024-08-13T09:30:02.513151",
     "status": "completed"
    },
    "tags": []
   },
   "outputs": [
    {
     "data": {
      "text/plain": [
       "(3116945, 22)"
      ]
     },
     "execution_count": 12,
     "metadata": {},
     "output_type": "execute_result"
    }
   ],
   "source": [
    "data_train2 = data_train.copy()\n",
    "data_train2 = data_train.drop_duplicates()\n",
    "data_train2.shape"
   ]
  },
  {
   "cell_type": "code",
   "execution_count": 13,
   "id": "cca20594",
   "metadata": {
    "execution": {
     "iopub.execute_input": "2024-08-13T09:30:12.707187Z",
     "iopub.status.busy": "2024-08-13T09:30:12.706753Z",
     "iopub.status.idle": "2024-08-13T09:30:17.742291Z",
     "shell.execute_reply": "2024-08-13T09:30:17.740919Z"
    },
    "papermill": {
     "duration": 5.056876,
     "end_time": "2024-08-13T09:30:17.745165",
     "exception": false,
     "start_time": "2024-08-13T09:30:12.688289",
     "status": "completed"
    },
    "tags": []
   },
   "outputs": [
    {
     "data": {
      "text/plain": [
       "id                            0\n",
       "class                         0\n",
       "cap-diameter                  4\n",
       "cap-shape                    40\n",
       "cap-surface              671023\n",
       "cap-color                    12\n",
       "does-bruise-or-bleed          8\n",
       "gill-attachment          523936\n",
       "gill-spacing            1258435\n",
       "gill-color                   57\n",
       "stem-height                   0\n",
       "stem-width                    0\n",
       "stem-root               2757023\n",
       "stem-surface            1980861\n",
       "stem-color                   38\n",
       "veil-type               2957493\n",
       "veil-color              2740947\n",
       "has-ring                     24\n",
       "ring-type                128880\n",
       "spore-print-color       2849682\n",
       "habitat                      45\n",
       "season                        0\n",
       "dtype: int64"
      ]
     },
     "execution_count": 13,
     "metadata": {},
     "output_type": "execute_result"
    }
   ],
   "source": [
    "data_train2.isna().sum()"
   ]
  },
  {
   "cell_type": "code",
   "execution_count": 14,
   "id": "42e465bc",
   "metadata": {
    "execution": {
     "iopub.execute_input": "2024-08-13T09:30:17.781697Z",
     "iopub.status.busy": "2024-08-13T09:30:17.780717Z",
     "iopub.status.idle": "2024-08-13T09:30:22.749499Z",
     "shell.execute_reply": "2024-08-13T09:30:22.748264Z"
    },
    "papermill": {
     "duration": 4.98961,
     "end_time": "2024-08-13T09:30:22.752332",
     "exception": false,
     "start_time": "2024-08-13T09:30:17.762722",
     "status": "completed"
    },
    "tags": []
   },
   "outputs": [
    {
     "data": {
      "text/plain": [
       "id                       0.000000\n",
       "class                    0.000000\n",
       "cap-diameter             0.000128\n",
       "cap-shape                0.001283\n",
       "cap-surface             21.528227\n",
       "cap-color                0.000385\n",
       "does-bruise-or-bleed     0.000257\n",
       "gill-attachment         16.809280\n",
       "gill-spacing            40.373988\n",
       "gill-color               0.001829\n",
       "stem-height              0.000000\n",
       "stem-width               0.000000\n",
       "stem-root               88.452732\n",
       "stem-surface            63.551362\n",
       "stem-color               0.001219\n",
       "veil-type               94.884350\n",
       "veil-color              87.936970\n",
       "has-ring                 0.000770\n",
       "ring-type                4.134818\n",
       "spore-print-color       91.425482\n",
       "habitat                  0.001444\n",
       "season                   0.000000\n",
       "dtype: float64"
      ]
     },
     "execution_count": 14,
     "metadata": {},
     "output_type": "execute_result"
    }
   ],
   "source": [
    "data_train2.isna().mean()*100"
   ]
  },
  {
   "cell_type": "code",
   "execution_count": 15,
   "id": "70c17206",
   "metadata": {
    "execution": {
     "iopub.execute_input": "2024-08-13T09:30:22.788479Z",
     "iopub.status.busy": "2024-08-13T09:30:22.788043Z",
     "iopub.status.idle": "2024-08-13T09:30:27.852882Z",
     "shell.execute_reply": "2024-08-13T09:30:27.851540Z"
    },
    "papermill": {
     "duration": 5.086908,
     "end_time": "2024-08-13T09:30:27.856773",
     "exception": false,
     "start_time": "2024-08-13T09:30:22.769865",
     "status": "completed"
    },
    "tags": []
   },
   "outputs": [
    {
     "data": {
      "text/plain": [
       "stem-root            88.452732\n",
       "veil-type            94.884350\n",
       "veil-color           87.936970\n",
       "spore-print-color    91.425482\n",
       "dtype: float64"
      ]
     },
     "execution_count": 15,
     "metadata": {},
     "output_type": "execute_result"
    }
   ],
   "source": [
    "miss70 = data_train2.isna().mean()*100\n",
    "miss70[miss70>70]"
   ]
  },
  {
   "cell_type": "code",
   "execution_count": 16,
   "id": "2cd43400",
   "metadata": {
    "execution": {
     "iopub.execute_input": "2024-08-13T09:30:27.893537Z",
     "iopub.status.busy": "2024-08-13T09:30:27.893080Z",
     "iopub.status.idle": "2024-08-13T09:30:27.935405Z",
     "shell.execute_reply": "2024-08-13T09:30:27.934261Z"
    },
    "papermill": {
     "duration": 0.063615,
     "end_time": "2024-08-13T09:30:27.938139",
     "exception": false,
     "start_time": "2024-08-13T09:30:27.874524",
     "status": "completed"
    },
    "tags": []
   },
   "outputs": [
    {
     "data": {
      "text/plain": [
       "(3116945, 2)"
      ]
     },
     "execution_count": 16,
     "metadata": {},
     "output_type": "execute_result"
    }
   ],
   "source": [
    "classes_with_id = data_train2[['id','class']]\n",
    "classes_with_id.shape"
   ]
  },
  {
   "cell_type": "code",
   "execution_count": 17,
   "id": "17b28225",
   "metadata": {
    "execution": {
     "iopub.execute_input": "2024-08-13T09:30:27.978942Z",
     "iopub.status.busy": "2024-08-13T09:30:27.978517Z",
     "iopub.status.idle": "2024-08-13T09:30:34.494282Z",
     "shell.execute_reply": "2024-08-13T09:30:34.492993Z"
    },
    "papermill": {
     "duration": 6.541936,
     "end_time": "2024-08-13T09:30:34.497474",
     "exception": false,
     "start_time": "2024-08-13T09:30:27.955538",
     "status": "completed"
    },
    "tags": []
   },
   "outputs": [
    {
     "data": {
      "text/plain": [
       "(2077964, 21)"
      ]
     },
     "execution_count": 17,
     "metadata": {},
     "output_type": "execute_result"
    }
   ],
   "source": [
    "data_test2 = data_test.copy()\n",
    "data_test2 = data_test.drop_duplicates()\n",
    "data_test2.shape"
   ]
  },
  {
   "cell_type": "code",
   "execution_count": 18,
   "id": "748bbfae",
   "metadata": {
    "execution": {
     "iopub.execute_input": "2024-08-13T09:30:34.548209Z",
     "iopub.status.busy": "2024-08-13T09:30:34.547787Z",
     "iopub.status.idle": "2024-08-13T09:30:35.725798Z",
     "shell.execute_reply": "2024-08-13T09:30:35.724085Z"
    },
    "papermill": {
     "duration": 1.206759,
     "end_time": "2024-08-13T09:30:35.728524",
     "exception": false,
     "start_time": "2024-08-13T09:30:34.521765",
     "status": "completed"
    },
    "tags": []
   },
   "outputs": [
    {
     "name": "stdout",
     "output_type": "stream",
     "text": [
      "(3116945, 16)\n",
      "(2077964, 16)\n"
     ]
    }
   ],
   "source": [
    "data_train2  = data_train2.drop(columns = {'id','stem-root','class','veil-type','veil-color','spore-print-color'}, axis =1)\n",
    "print(data_train2.shape)\n",
    "data_test2 = data_test2.drop(columns={'id','stem-root','veil-type','veil-color','spore-print-color'}, axis =1)\n",
    "print(data_test2.shape)"
   ]
  },
  {
   "cell_type": "code",
   "execution_count": 19,
   "id": "df2745f6",
   "metadata": {
    "execution": {
     "iopub.execute_input": "2024-08-13T09:30:35.764553Z",
     "iopub.status.busy": "2024-08-13T09:30:35.764048Z",
     "iopub.status.idle": "2024-08-13T09:30:35.776892Z",
     "shell.execute_reply": "2024-08-13T09:30:35.775663Z"
    },
    "papermill": {
     "duration": 0.034231,
     "end_time": "2024-08-13T09:30:35.779752",
     "exception": false,
     "start_time": "2024-08-13T09:30:35.745521",
     "status": "completed"
    },
    "tags": []
   },
   "outputs": [
    {
     "name": "stdout",
     "output_type": "stream",
     "text": [
      "<class 'pandas.core.frame.DataFrame'>\n",
      "RangeIndex: 3116945 entries, 0 to 3116944\n",
      "Data columns (total 16 columns):\n",
      " #   Column                Dtype  \n",
      "---  ------                -----  \n",
      " 0   cap-diameter          float64\n",
      " 1   cap-shape             object \n",
      " 2   cap-surface           object \n",
      " 3   cap-color             object \n",
      " 4   does-bruise-or-bleed  object \n",
      " 5   gill-attachment       object \n",
      " 6   gill-spacing          object \n",
      " 7   gill-color            object \n",
      " 8   stem-height           float64\n",
      " 9   stem-width            float64\n",
      " 10  stem-surface          object \n",
      " 11  stem-color            object \n",
      " 12  has-ring              object \n",
      " 13  ring-type             object \n",
      " 14  habitat               object \n",
      " 15  season                object \n",
      "dtypes: float64(3), object(13)\n",
      "memory usage: 380.5+ MB\n"
     ]
    }
   ],
   "source": [
    "data_train2.info()"
   ]
  },
  {
   "cell_type": "code",
   "execution_count": 20,
   "id": "c638d039",
   "metadata": {
    "execution": {
     "iopub.execute_input": "2024-08-13T09:30:35.894220Z",
     "iopub.status.busy": "2024-08-13T09:30:35.893797Z",
     "iopub.status.idle": "2024-08-13T09:30:39.978175Z",
     "shell.execute_reply": "2024-08-13T09:30:39.976827Z"
    },
    "papermill": {
     "duration": 4.18426,
     "end_time": "2024-08-13T09:30:39.981206",
     "exception": false,
     "start_time": "2024-08-13T09:30:35.796946",
     "status": "completed"
    },
    "tags": []
   },
   "outputs": [
    {
     "data": {
      "text/plain": [
       "cap-diameter                  4\n",
       "cap-shape                    40\n",
       "cap-surface              671023\n",
       "cap-color                    12\n",
       "does-bruise-or-bleed          8\n",
       "gill-attachment          523936\n",
       "gill-spacing            1258435\n",
       "gill-color                   57\n",
       "stem-height                   0\n",
       "stem-width                    0\n",
       "stem-surface            1980861\n",
       "stem-color                   38\n",
       "has-ring                     24\n",
       "ring-type                128880\n",
       "habitat                      45\n",
       "season                        0\n",
       "dtype: int64"
      ]
     },
     "execution_count": 20,
     "metadata": {},
     "output_type": "execute_result"
    }
   ],
   "source": [
    "data_train2.isnull().sum()"
   ]
  },
  {
   "cell_type": "code",
   "execution_count": null,
   "id": "6ef5f645",
   "metadata": {
    "papermill": {
     "duration": 0.01911,
     "end_time": "2024-08-13T09:30:40.018166",
     "exception": false,
     "start_time": "2024-08-13T09:30:39.999056",
     "status": "completed"
    },
    "tags": []
   },
   "outputs": [],
   "source": []
  },
  {
   "cell_type": "code",
   "execution_count": 21,
   "id": "e6052a1d",
   "metadata": {
    "execution": {
     "iopub.execute_input": "2024-08-13T09:30:40.056634Z",
     "iopub.status.busy": "2024-08-13T09:30:40.055415Z",
     "iopub.status.idle": "2024-08-13T09:30:40.067694Z",
     "shell.execute_reply": "2024-08-13T09:30:40.066391Z"
    },
    "papermill": {
     "duration": 0.033581,
     "end_time": "2024-08-13T09:30:40.070318",
     "exception": false,
     "start_time": "2024-08-13T09:30:40.036737",
     "status": "completed"
    },
    "tags": []
   },
   "outputs": [
    {
     "name": "stdout",
     "output_type": "stream",
     "text": [
      "<class 'pandas.core.frame.DataFrame'>\n",
      "RangeIndex: 2077964 entries, 0 to 2077963\n",
      "Data columns (total 16 columns):\n",
      " #   Column                Dtype  \n",
      "---  ------                -----  \n",
      " 0   cap-diameter          float64\n",
      " 1   cap-shape             object \n",
      " 2   cap-surface           object \n",
      " 3   cap-color             object \n",
      " 4   does-bruise-or-bleed  object \n",
      " 5   gill-attachment       object \n",
      " 6   gill-spacing          object \n",
      " 7   gill-color            object \n",
      " 8   stem-height           float64\n",
      " 9   stem-width            float64\n",
      " 10  stem-surface          object \n",
      " 11  stem-color            object \n",
      " 12  has-ring              object \n",
      " 13  ring-type             object \n",
      " 14  habitat               object \n",
      " 15  season                object \n",
      "dtypes: float64(3), object(13)\n",
      "memory usage: 253.7+ MB\n"
     ]
    }
   ],
   "source": [
    "data_test2.info()"
   ]
  },
  {
   "cell_type": "code",
   "execution_count": 22,
   "id": "8d519dce",
   "metadata": {
    "execution": {
     "iopub.execute_input": "2024-08-13T09:30:40.108671Z",
     "iopub.status.busy": "2024-08-13T09:30:40.107477Z",
     "iopub.status.idle": "2024-08-13T09:30:42.832768Z",
     "shell.execute_reply": "2024-08-13T09:30:42.831533Z"
    },
    "papermill": {
     "duration": 2.747578,
     "end_time": "2024-08-13T09:30:42.836006",
     "exception": false,
     "start_time": "2024-08-13T09:30:40.088428",
     "status": "completed"
    },
    "tags": []
   },
   "outputs": [
    {
     "data": {
      "text/plain": [
       "cap-diameter                  7\n",
       "cap-shape                    31\n",
       "cap-surface              446904\n",
       "cap-color                    13\n",
       "does-bruise-or-bleed         10\n",
       "gill-attachment          349821\n",
       "gill-spacing             839595\n",
       "gill-color                   49\n",
       "stem-height                   1\n",
       "stem-width                    0\n",
       "stem-surface            1321488\n",
       "stem-color                   21\n",
       "has-ring                     19\n",
       "ring-type                 86195\n",
       "habitat                      25\n",
       "season                        0\n",
       "dtype: int64"
      ]
     },
     "execution_count": 22,
     "metadata": {},
     "output_type": "execute_result"
    }
   ],
   "source": [
    "data_test2.isnull().sum()"
   ]
  },
  {
   "cell_type": "markdown",
   "id": "214903ef",
   "metadata": {
    "papermill": {
     "duration": 0.017434,
     "end_time": "2024-08-13T09:30:42.871255",
     "exception": false,
     "start_time": "2024-08-13T09:30:42.853821",
     "status": "completed"
    },
    "tags": []
   },
   "source": [
    "## Combining both train and test datasets fro easier processing"
   ]
  },
  {
   "cell_type": "code",
   "execution_count": 23,
   "id": "8cda3f78",
   "metadata": {
    "execution": {
     "iopub.execute_input": "2024-08-13T09:30:42.908965Z",
     "iopub.status.busy": "2024-08-13T09:30:42.908564Z",
     "iopub.status.idle": "2024-08-13T09:30:43.994860Z",
     "shell.execute_reply": "2024-08-13T09:30:43.993544Z"
    },
    "papermill": {
     "duration": 1.108128,
     "end_time": "2024-08-13T09:30:43.997497",
     "exception": false,
     "start_time": "2024-08-13T09:30:42.889369",
     "status": "completed"
    },
    "tags": []
   },
   "outputs": [
    {
     "data": {
      "text/html": [
       "<div>\n",
       "<style scoped>\n",
       "    .dataframe tbody tr th:only-of-type {\n",
       "        vertical-align: middle;\n",
       "    }\n",
       "\n",
       "    .dataframe tbody tr th {\n",
       "        vertical-align: top;\n",
       "    }\n",
       "\n",
       "    .dataframe thead th {\n",
       "        text-align: right;\n",
       "    }\n",
       "</style>\n",
       "<table border=\"1\" class=\"dataframe\">\n",
       "  <thead>\n",
       "    <tr style=\"text-align: right;\">\n",
       "      <th></th>\n",
       "      <th>cap-diameter</th>\n",
       "      <th>cap-shape</th>\n",
       "      <th>cap-surface</th>\n",
       "      <th>cap-color</th>\n",
       "      <th>does-bruise-or-bleed</th>\n",
       "      <th>gill-attachment</th>\n",
       "      <th>gill-spacing</th>\n",
       "      <th>gill-color</th>\n",
       "      <th>stem-height</th>\n",
       "      <th>stem-width</th>\n",
       "      <th>stem-surface</th>\n",
       "      <th>stem-color</th>\n",
       "      <th>has-ring</th>\n",
       "      <th>ring-type</th>\n",
       "      <th>habitat</th>\n",
       "      <th>season</th>\n",
       "    </tr>\n",
       "  </thead>\n",
       "  <tbody>\n",
       "    <tr>\n",
       "      <th>0</th>\n",
       "      <td>8.80</td>\n",
       "      <td>f</td>\n",
       "      <td>s</td>\n",
       "      <td>u</td>\n",
       "      <td>f</td>\n",
       "      <td>a</td>\n",
       "      <td>c</td>\n",
       "      <td>w</td>\n",
       "      <td>4.51</td>\n",
       "      <td>15.39</td>\n",
       "      <td>NaN</td>\n",
       "      <td>w</td>\n",
       "      <td>f</td>\n",
       "      <td>f</td>\n",
       "      <td>d</td>\n",
       "      <td>a</td>\n",
       "    </tr>\n",
       "    <tr>\n",
       "      <th>1</th>\n",
       "      <td>4.51</td>\n",
       "      <td>x</td>\n",
       "      <td>h</td>\n",
       "      <td>o</td>\n",
       "      <td>f</td>\n",
       "      <td>a</td>\n",
       "      <td>c</td>\n",
       "      <td>n</td>\n",
       "      <td>4.79</td>\n",
       "      <td>6.48</td>\n",
       "      <td>y</td>\n",
       "      <td>o</td>\n",
       "      <td>t</td>\n",
       "      <td>z</td>\n",
       "      <td>d</td>\n",
       "      <td>w</td>\n",
       "    </tr>\n",
       "    <tr>\n",
       "      <th>2</th>\n",
       "      <td>6.94</td>\n",
       "      <td>f</td>\n",
       "      <td>s</td>\n",
       "      <td>b</td>\n",
       "      <td>f</td>\n",
       "      <td>x</td>\n",
       "      <td>c</td>\n",
       "      <td>w</td>\n",
       "      <td>6.85</td>\n",
       "      <td>9.93</td>\n",
       "      <td>s</td>\n",
       "      <td>n</td>\n",
       "      <td>f</td>\n",
       "      <td>f</td>\n",
       "      <td>l</td>\n",
       "      <td>w</td>\n",
       "    </tr>\n",
       "    <tr>\n",
       "      <th>3</th>\n",
       "      <td>3.88</td>\n",
       "      <td>f</td>\n",
       "      <td>y</td>\n",
       "      <td>g</td>\n",
       "      <td>f</td>\n",
       "      <td>s</td>\n",
       "      <td>NaN</td>\n",
       "      <td>g</td>\n",
       "      <td>4.16</td>\n",
       "      <td>6.53</td>\n",
       "      <td>NaN</td>\n",
       "      <td>w</td>\n",
       "      <td>f</td>\n",
       "      <td>f</td>\n",
       "      <td>d</td>\n",
       "      <td>u</td>\n",
       "    </tr>\n",
       "    <tr>\n",
       "      <th>4</th>\n",
       "      <td>5.85</td>\n",
       "      <td>x</td>\n",
       "      <td>l</td>\n",
       "      <td>w</td>\n",
       "      <td>f</td>\n",
       "      <td>d</td>\n",
       "      <td>NaN</td>\n",
       "      <td>w</td>\n",
       "      <td>3.37</td>\n",
       "      <td>8.36</td>\n",
       "      <td>NaN</td>\n",
       "      <td>w</td>\n",
       "      <td>f</td>\n",
       "      <td>f</td>\n",
       "      <td>g</td>\n",
       "      <td>a</td>\n",
       "    </tr>\n",
       "  </tbody>\n",
       "</table>\n",
       "</div>"
      ],
      "text/plain": [
       "   cap-diameter cap-shape cap-surface cap-color does-bruise-or-bleed  \\\n",
       "0          8.80         f           s         u                    f   \n",
       "1          4.51         x           h         o                    f   \n",
       "2          6.94         f           s         b                    f   \n",
       "3          3.88         f           y         g                    f   \n",
       "4          5.85         x           l         w                    f   \n",
       "\n",
       "  gill-attachment gill-spacing gill-color  stem-height  stem-width  \\\n",
       "0               a            c          w         4.51       15.39   \n",
       "1               a            c          n         4.79        6.48   \n",
       "2               x            c          w         6.85        9.93   \n",
       "3               s          NaN          g         4.16        6.53   \n",
       "4               d          NaN          w         3.37        8.36   \n",
       "\n",
       "  stem-surface stem-color has-ring ring-type habitat season  \n",
       "0          NaN          w        f         f       d      a  \n",
       "1            y          o        t         z       d      w  \n",
       "2            s          n        f         f       l      w  \n",
       "3          NaN          w        f         f       d      u  \n",
       "4          NaN          w        f         f       g      a  "
      ]
     },
     "execution_count": 23,
     "metadata": {},
     "output_type": "execute_result"
    }
   ],
   "source": [
    "com_data = pd.concat([data_train2,data_test2])\n",
    "com_data.head()"
   ]
  },
  {
   "cell_type": "code",
   "execution_count": 24,
   "id": "3150495e",
   "metadata": {
    "execution": {
     "iopub.execute_input": "2024-08-13T09:30:44.037548Z",
     "iopub.status.busy": "2024-08-13T09:30:44.037089Z",
     "iopub.status.idle": "2024-08-13T09:30:44.045280Z",
     "shell.execute_reply": "2024-08-13T09:30:44.043974Z"
    },
    "papermill": {
     "duration": 0.030705,
     "end_time": "2024-08-13T09:30:44.047719",
     "exception": false,
     "start_time": "2024-08-13T09:30:44.017014",
     "status": "completed"
    },
    "tags": []
   },
   "outputs": [
    {
     "data": {
      "text/plain": [
       "(5194909, 16)"
      ]
     },
     "execution_count": 24,
     "metadata": {},
     "output_type": "execute_result"
    }
   ],
   "source": [
    "com_data.shape"
   ]
  },
  {
   "cell_type": "code",
   "execution_count": 25,
   "id": "816e7447",
   "metadata": {
    "execution": {
     "iopub.execute_input": "2024-08-13T09:30:44.086380Z",
     "iopub.status.busy": "2024-08-13T09:30:44.085351Z",
     "iopub.status.idle": "2024-08-13T09:30:44.096690Z",
     "shell.execute_reply": "2024-08-13T09:30:44.095505Z"
    },
    "papermill": {
     "duration": 0.033846,
     "end_time": "2024-08-13T09:30:44.099714",
     "exception": false,
     "start_time": "2024-08-13T09:30:44.065868",
     "status": "completed"
    },
    "tags": []
   },
   "outputs": [
    {
     "name": "stdout",
     "output_type": "stream",
     "text": [
      "<class 'pandas.core.frame.DataFrame'>\n",
      "Index: 5194909 entries, 0 to 2077963\n",
      "Data columns (total 16 columns):\n",
      " #   Column                Dtype  \n",
      "---  ------                -----  \n",
      " 0   cap-diameter          float64\n",
      " 1   cap-shape             object \n",
      " 2   cap-surface           object \n",
      " 3   cap-color             object \n",
      " 4   does-bruise-or-bleed  object \n",
      " 5   gill-attachment       object \n",
      " 6   gill-spacing          object \n",
      " 7   gill-color            object \n",
      " 8   stem-height           float64\n",
      " 9   stem-width            float64\n",
      " 10  stem-surface          object \n",
      " 11  stem-color            object \n",
      " 12  has-ring              object \n",
      " 13  ring-type             object \n",
      " 14  habitat               object \n",
      " 15  season                object \n",
      "dtypes: float64(3), object(13)\n",
      "memory usage: 673.8+ MB\n"
     ]
    }
   ],
   "source": [
    "com_data.info()"
   ]
  },
  {
   "cell_type": "code",
   "execution_count": 26,
   "id": "a29a6795",
   "metadata": {
    "execution": {
     "iopub.execute_input": "2024-08-13T09:30:44.138254Z",
     "iopub.status.busy": "2024-08-13T09:30:44.137858Z",
     "iopub.status.idle": "2024-08-13T09:30:45.284589Z",
     "shell.execute_reply": "2024-08-13T09:30:45.283301Z"
    },
    "papermill": {
     "duration": 1.169873,
     "end_time": "2024-08-13T09:30:45.288011",
     "exception": false,
     "start_time": "2024-08-13T09:30:44.118138",
     "status": "completed"
    },
    "tags": []
   },
   "outputs": [
    {
     "data": {
      "text/html": [
       "<div>\n",
       "<style scoped>\n",
       "    .dataframe tbody tr th:only-of-type {\n",
       "        vertical-align: middle;\n",
       "    }\n",
       "\n",
       "    .dataframe tbody tr th {\n",
       "        vertical-align: top;\n",
       "    }\n",
       "\n",
       "    .dataframe thead th {\n",
       "        text-align: right;\n",
       "    }\n",
       "</style>\n",
       "<table border=\"1\" class=\"dataframe\">\n",
       "  <thead>\n",
       "    <tr style=\"text-align: right;\">\n",
       "      <th></th>\n",
       "      <th>cap-diameter</th>\n",
       "      <th>stem-height</th>\n",
       "      <th>stem-width</th>\n",
       "    </tr>\n",
       "  </thead>\n",
       "  <tbody>\n",
       "    <tr>\n",
       "      <th>count</th>\n",
       "      <td>5.194898e+06</td>\n",
       "      <td>5.194908e+06</td>\n",
       "      <td>5.194909e+06</td>\n",
       "    </tr>\n",
       "    <tr>\n",
       "      <th>mean</th>\n",
       "      <td>6.308386e+00</td>\n",
       "      <td>6.347604e+00</td>\n",
       "      <td>1.115162e+01</td>\n",
       "    </tr>\n",
       "    <tr>\n",
       "      <th>std</th>\n",
       "      <td>4.668963e+00</td>\n",
       "      <td>2.699444e+00</td>\n",
       "      <td>8.097359e+00</td>\n",
       "    </tr>\n",
       "    <tr>\n",
       "      <th>min</th>\n",
       "      <td>0.000000e+00</td>\n",
       "      <td>0.000000e+00</td>\n",
       "      <td>0.000000e+00</td>\n",
       "    </tr>\n",
       "    <tr>\n",
       "      <th>25%</th>\n",
       "      <td>3.320000e+00</td>\n",
       "      <td>4.670000e+00</td>\n",
       "      <td>4.970000e+00</td>\n",
       "    </tr>\n",
       "    <tr>\n",
       "      <th>50%</th>\n",
       "      <td>5.740000e+00</td>\n",
       "      <td>5.880000e+00</td>\n",
       "      <td>9.650000e+00</td>\n",
       "    </tr>\n",
       "    <tr>\n",
       "      <th>75%</th>\n",
       "      <td>8.240000e+00</td>\n",
       "      <td>7.410000e+00</td>\n",
       "      <td>1.562000e+01</td>\n",
       "    </tr>\n",
       "    <tr>\n",
       "      <th>max</th>\n",
       "      <td>6.070000e+02</td>\n",
       "      <td>8.872000e+01</td>\n",
       "      <td>1.029100e+02</td>\n",
       "    </tr>\n",
       "  </tbody>\n",
       "</table>\n",
       "</div>"
      ],
      "text/plain": [
       "       cap-diameter   stem-height    stem-width\n",
       "count  5.194898e+06  5.194908e+06  5.194909e+06\n",
       "mean   6.308386e+00  6.347604e+00  1.115162e+01\n",
       "std    4.668963e+00  2.699444e+00  8.097359e+00\n",
       "min    0.000000e+00  0.000000e+00  0.000000e+00\n",
       "25%    3.320000e+00  4.670000e+00  4.970000e+00\n",
       "50%    5.740000e+00  5.880000e+00  9.650000e+00\n",
       "75%    8.240000e+00  7.410000e+00  1.562000e+01\n",
       "max    6.070000e+02  8.872000e+01  1.029100e+02"
      ]
     },
     "execution_count": 26,
     "metadata": {},
     "output_type": "execute_result"
    }
   ],
   "source": [
    "com_data.describe(include = [np.number])"
   ]
  },
  {
   "cell_type": "code",
   "execution_count": 27,
   "id": "54d3b3fa",
   "metadata": {
    "execution": {
     "iopub.execute_input": "2024-08-13T09:30:45.329823Z",
     "iopub.status.busy": "2024-08-13T09:30:45.328566Z",
     "iopub.status.idle": "2024-08-13T09:31:04.080916Z",
     "shell.execute_reply": "2024-08-13T09:31:04.079344Z"
    },
    "papermill": {
     "duration": 18.775943,
     "end_time": "2024-08-13T09:31:04.083688",
     "exception": false,
     "start_time": "2024-08-13T09:30:45.307745",
     "status": "completed"
    },
    "tags": []
   },
   "outputs": [
    {
     "data": {
      "text/html": [
       "<div>\n",
       "<style scoped>\n",
       "    .dataframe tbody tr th:only-of-type {\n",
       "        vertical-align: middle;\n",
       "    }\n",
       "\n",
       "    .dataframe tbody tr th {\n",
       "        vertical-align: top;\n",
       "    }\n",
       "\n",
       "    .dataframe thead th {\n",
       "        text-align: right;\n",
       "    }\n",
       "</style>\n",
       "<table border=\"1\" class=\"dataframe\">\n",
       "  <thead>\n",
       "    <tr style=\"text-align: right;\">\n",
       "      <th></th>\n",
       "      <th>cap-shape</th>\n",
       "      <th>cap-surface</th>\n",
       "      <th>cap-color</th>\n",
       "      <th>does-bruise-or-bleed</th>\n",
       "      <th>gill-attachment</th>\n",
       "      <th>gill-spacing</th>\n",
       "      <th>gill-color</th>\n",
       "      <th>stem-surface</th>\n",
       "      <th>stem-color</th>\n",
       "      <th>has-ring</th>\n",
       "      <th>ring-type</th>\n",
       "      <th>habitat</th>\n",
       "      <th>season</th>\n",
       "    </tr>\n",
       "  </thead>\n",
       "  <tbody>\n",
       "    <tr>\n",
       "      <th>count</th>\n",
       "      <td>5194838</td>\n",
       "      <td>4076982</td>\n",
       "      <td>5194884</td>\n",
       "      <td>5194891</td>\n",
       "      <td>4321152</td>\n",
       "      <td>3096879</td>\n",
       "      <td>5194803</td>\n",
       "      <td>1892560</td>\n",
       "      <td>5194850</td>\n",
       "      <td>5194866</td>\n",
       "      <td>4979834</td>\n",
       "      <td>5194839</td>\n",
       "      <td>5194909</td>\n",
       "    </tr>\n",
       "    <tr>\n",
       "      <th>unique</th>\n",
       "      <td>108</td>\n",
       "      <td>114</td>\n",
       "      <td>109</td>\n",
       "      <td>29</td>\n",
       "      <td>117</td>\n",
       "      <td>66</td>\n",
       "      <td>86</td>\n",
       "      <td>87</td>\n",
       "      <td>88</td>\n",
       "      <td>26</td>\n",
       "      <td>47</td>\n",
       "      <td>65</td>\n",
       "      <td>4</td>\n",
       "    </tr>\n",
       "    <tr>\n",
       "      <th>top</th>\n",
       "      <td>x</td>\n",
       "      <td>t</td>\n",
       "      <td>n</td>\n",
       "      <td>f</td>\n",
       "      <td>a</td>\n",
       "      <td>c</td>\n",
       "      <td>w</td>\n",
       "      <td>s</td>\n",
       "      <td>w</td>\n",
       "      <td>f</td>\n",
       "      <td>f</td>\n",
       "      <td>d</td>\n",
       "      <td>a</td>\n",
       "    </tr>\n",
       "    <tr>\n",
       "      <th>freq</th>\n",
       "      <td>2393975</td>\n",
       "      <td>767629</td>\n",
       "      <td>2263849</td>\n",
       "      <td>4283405</td>\n",
       "      <td>1076994</td>\n",
       "      <td>2218030</td>\n",
       "      <td>1552311</td>\n",
       "      <td>546106</td>\n",
       "      <td>1994002</td>\n",
       "      <td>3946912</td>\n",
       "      <td>4127370</td>\n",
       "      <td>3627993</td>\n",
       "      <td>2572406</td>\n",
       "    </tr>\n",
       "  </tbody>\n",
       "</table>\n",
       "</div>"
      ],
      "text/plain": [
       "       cap-shape cap-surface cap-color does-bruise-or-bleed gill-attachment  \\\n",
       "count    5194838     4076982   5194884              5194891         4321152   \n",
       "unique       108         114       109                   29             117   \n",
       "top            x           t         n                    f               a   \n",
       "freq     2393975      767629   2263849              4283405         1076994   \n",
       "\n",
       "       gill-spacing gill-color stem-surface stem-color has-ring ring-type  \\\n",
       "count       3096879    5194803      1892560    5194850  5194866   4979834   \n",
       "unique           66         86           87         88       26        47   \n",
       "top               c          w            s          w        f         f   \n",
       "freq        2218030    1552311       546106    1994002  3946912   4127370   \n",
       "\n",
       "        habitat   season  \n",
       "count   5194839  5194909  \n",
       "unique       65        4  \n",
       "top           d        a  \n",
       "freq    3627993  2572406  "
      ]
     },
     "execution_count": 27,
     "metadata": {},
     "output_type": "execute_result"
    }
   ],
   "source": [
    "com_data.describe(include = ['object'])"
   ]
  },
  {
   "cell_type": "code",
   "execution_count": 28,
   "id": "45b8271f",
   "metadata": {
    "execution": {
     "iopub.execute_input": "2024-08-13T09:31:04.123780Z",
     "iopub.status.busy": "2024-08-13T09:31:04.123346Z",
     "iopub.status.idle": "2024-08-13T09:31:11.038758Z",
     "shell.execute_reply": "2024-08-13T09:31:11.037582Z"
    },
    "papermill": {
     "duration": 6.93891,
     "end_time": "2024-08-13T09:31:11.041613",
     "exception": false,
     "start_time": "2024-08-13T09:31:04.102703",
     "status": "completed"
    },
    "tags": []
   },
   "outputs": [
    {
     "data": {
      "text/plain": [
       "cap-diameter                 11\n",
       "cap-shape                    71\n",
       "cap-surface             1117927\n",
       "cap-color                    25\n",
       "does-bruise-or-bleed         18\n",
       "gill-attachment          873757\n",
       "gill-spacing            2098030\n",
       "gill-color                  106\n",
       "stem-height                   1\n",
       "stem-width                    0\n",
       "stem-surface            3302349\n",
       "stem-color                   59\n",
       "has-ring                     43\n",
       "ring-type                215075\n",
       "habitat                      70\n",
       "season                        0\n",
       "dtype: int64"
      ]
     },
     "execution_count": 28,
     "metadata": {},
     "output_type": "execute_result"
    }
   ],
   "source": [
    "com_data.isna().sum()"
   ]
  },
  {
   "cell_type": "code",
   "execution_count": 29,
   "id": "e384e915",
   "metadata": {
    "execution": {
     "iopub.execute_input": "2024-08-13T09:31:11.082255Z",
     "iopub.status.busy": "2024-08-13T09:31:11.081816Z",
     "iopub.status.idle": "2024-08-13T09:31:17.907056Z",
     "shell.execute_reply": "2024-08-13T09:31:17.905785Z"
    },
    "papermill": {
     "duration": 6.849242,
     "end_time": "2024-08-13T09:31:17.910293",
     "exception": false,
     "start_time": "2024-08-13T09:31:11.061051",
     "status": "completed"
    },
    "tags": []
   },
   "outputs": [
    {
     "data": {
      "text/plain": [
       "cap-diameter             0.000212\n",
       "cap-shape                0.001367\n",
       "cap-surface             21.519665\n",
       "cap-color                0.000481\n",
       "does-bruise-or-bleed     0.000346\n",
       "gill-attachment         16.819486\n",
       "gill-spacing            40.386270\n",
       "gill-color               0.002040\n",
       "stem-height              0.000019\n",
       "stem-width               0.000000\n",
       "stem-surface            63.568948\n",
       "stem-color               0.001136\n",
       "has-ring                 0.000828\n",
       "ring-type                4.140111\n",
       "habitat                  0.001347\n",
       "season                   0.000000\n",
       "dtype: float64"
      ]
     },
     "execution_count": 29,
     "metadata": {},
     "output_type": "execute_result"
    }
   ],
   "source": [
    "com_data.isna().mean()*100"
   ]
  },
  {
   "cell_type": "code",
   "execution_count": 30,
   "id": "92a89432",
   "metadata": {
    "execution": {
     "iopub.execute_input": "2024-08-13T09:31:17.951230Z",
     "iopub.status.busy": "2024-08-13T09:31:17.950826Z",
     "iopub.status.idle": "2024-08-13T09:31:24.751072Z",
     "shell.execute_reply": "2024-08-13T09:31:24.749745Z"
    },
    "papermill": {
     "duration": 6.823939,
     "end_time": "2024-08-13T09:31:24.753871",
     "exception": false,
     "start_time": "2024-08-13T09:31:17.929932",
     "status": "completed"
    },
    "tags": []
   },
   "outputs": [
    {
     "data": {
      "text/plain": [
       "Series([], dtype: float64)"
      ]
     },
     "execution_count": 30,
     "metadata": {},
     "output_type": "execute_result"
    }
   ],
   "source": [
    "miss2_70 = com_data.isna().mean()*100\n",
    "miss2_70[miss2_70>70]"
   ]
  },
  {
   "cell_type": "code",
   "execution_count": null,
   "id": "6aedca85",
   "metadata": {
    "papermill": {
     "duration": 0.020348,
     "end_time": "2024-08-13T09:31:24.794122",
     "exception": false,
     "start_time": "2024-08-13T09:31:24.773774",
     "status": "completed"
    },
    "tags": []
   },
   "outputs": [],
   "source": []
  },
  {
   "cell_type": "markdown",
   "id": "61d4a66a",
   "metadata": {
    "papermill": {
     "duration": 0.019755,
     "end_time": "2024-08-13T09:31:24.835222",
     "exception": false,
     "start_time": "2024-08-13T09:31:24.815467",
     "status": "completed"
    },
    "tags": []
   },
   "source": [
    "## Converting categorical values to numerical"
   ]
  },
  {
   "cell_type": "code",
   "execution_count": 31,
   "id": "a114d362",
   "metadata": {
    "execution": {
     "iopub.execute_input": "2024-08-13T09:31:24.877019Z",
     "iopub.status.busy": "2024-08-13T09:31:24.876598Z",
     "iopub.status.idle": "2024-08-13T09:31:31.495354Z",
     "shell.execute_reply": "2024-08-13T09:31:31.493969Z"
    },
    "papermill": {
     "duration": 6.643679,
     "end_time": "2024-08-13T09:31:31.498675",
     "exception": false,
     "start_time": "2024-08-13T09:31:24.854996",
     "status": "completed"
    },
    "tags": []
   },
   "outputs": [
    {
     "name": "stdout",
     "output_type": "stream",
     "text": [
      "Column: cap-shape\n",
      "Unique Values: ['f' 'x' 'p' 'b' 'o' 'c' 's' 'd' 'e' 'n' nan 'w' 'k' 'l' '19.29' '5 f' 't'\n",
      " 'g' 'z' 'a' '2.85' '7 x' 'r' 'u' '3.55' 'is s' 'y' '4.22' '3.6' '21.56'\n",
      " 'i' '6 x' '24.16' '8' 'm' 'ring-type' '10.13' 'is p' '7.43' 'h' '0.82'\n",
      " '10.46' '2.77' '2.94' '12.62' '5.15' '19.04' '4.97' '49.21' 'b f' '9.13'\n",
      " '1.66' '3.37' '7.21' '3.25' '11.12' '3 x' '4.3' '7.41' '6.21' '8.29'\n",
      " '54.78' '20.25' '3.52' '3.04' '2.63' '3.91' '6.44' '8.3' '7.6' '17.44'\n",
      " '4.33' '2.82' '6.53' '19.06' '3.34' '3.32' '19.76' 'is f' '0.93' 'p f'\n",
      " '1.25' '4.55' '11.43' '6' '5.59' '4.41' '3.73' '3.47' '6.75' '51.63'\n",
      " '6.52' '9.49' '2.7' '3.15' '5.05' 'cap-diameter' '4.51' '4.86' '0.97'\n",
      " '3.94' '6.47' '3.23' '2.02' '1.53' '6.15' '17.89' '0.74' '4.54']\n",
      "\n",
      "Column: cap-surface\n",
      "Unique Values: ['s' 'h' 'y' 'l' 't' 'e' 'g' nan 'd' 'i' 'w' 'k' '15.94' 'f' 'n' 'r' 'o'\n",
      " 'a' 'u' 'z' '2.7' 'does l' '5.07' 'p' 'b' 'm' 'cap-diameter' '1.43' 'x'\n",
      " '7.14' 'c' 'is h' 'does t' '0.85' '6.57' '12.79' '6.45' '4.66' '23.18'\n",
      " '3.06' '16.39' '4.21' 'veil-color' '11.78' '8.1' 'has-ring' 'does h'\n",
      " '1.42' 'class' 'has h' 'does None' '10.83' 'season' '8.96' '14.04' '5.73'\n",
      " 'is None' '24.38' '2.81' '0.88' '2.11' '2.79' 'ring-type'\n",
      " 'does-bruise-or-bleed' '4.93' 'spore-print-color' 'spore-color' '2.92'\n",
      " '2.51' '7.99' 'is y' '3.64' '3.33' '41.91' '12.2' '8.01' '9.22' '1.14'\n",
      " '6.49' '10.34' '10.1' '1.08' 'is k' '0.87' '6.04' '10.09' '2.97' '7.78'\n",
      " '5.05' '5.92' '5.98' '11.96' '7.96' '9.53' '17.98' 'habitat' '2.47'\n",
      " '20.64' '8.34' '1.95' '16.48' '5.84' '5.93' '12.3' '14.18' '4.87' '15.52'\n",
      " '3.49' '6.58' '12.15' '6.7' '4.91' '0.94' '2.84' '5.1']\n",
      "\n",
      "Column: cap-color\n",
      "Unique Values: ['u' 'o' 'b' 'g' 'w' 'n' 'e' 'y' 'r' 'p' 'k' 'l' 'i' 'h' 'd' 's' 'a' 'f'\n",
      " '2.05' 'season' 'c' 'x' '13' '7.72' 'm' 'z' '6.76' '7.15' 't' 'ring-type'\n",
      " nan 'class' '12.89' '8.83' '24.75' '22.38' '1.51' '10.1' '17.94' '3.57'\n",
      " 'does n' '4.89' '6.2' '21.53' '6.41' '4.98' '3.95' 'does-bruise-or-bleed'\n",
      " '6.59' '5.25' 'veil-color' '6.9' '5.41' '11.13' '3.11' '2.57' '17.93'\n",
      " '2.7' '8.57' '11.92' '3.08' '2.82' '4.24' '17.19' '3.34' '7' '2.9' '6.36'\n",
      " '5.91' '10.56' '26.89' '4. n' '20.62' 'stem-surface' '20.02' '20' '25.98'\n",
      " '8.67' '9.02' '10.93' '0.73' '19.18' '5.35' '21.38' 'has-ring' '5.38'\n",
      " '7.41' '18.49' 'habitat' '5.16' '4.5' '4.75' '17.01' '3.0' '24.74'\n",
      " '12.91' '4.11' '4.92' '10.83' '1.83' '2.51' '6.74' '4.18' '23.96'\n",
      " 'cap---------------------------------------------------------------------------------root'\n",
      " '4.96' '0.91' '6.18' '4.61' '9.19']\n",
      "\n",
      "Column: does-bruise-or-bleed\n",
      "Unique Values: ['f' 't' 'd' 'has-ring' 'w' 'o' 'b' 'x' 'p' nan 'g' 'y' 'r' 'a' 'l' 'i'\n",
      " 'c' 'n' 'z' 's' 'k' 'h' '3.43' 'e' '4.42' '2.9' 'u' 'season' 'does t' 'm']\n",
      "\n",
      "Column: gill-attachment\n",
      "Unique Values: ['a' 'x' 's' 'd' 'e' nan 'f' 'p' 'l' 'm' 'b' '32.54' 'n' 'g' 'i' 'u'\n",
      " 'does-bruise-or-bleed' 't' 'o' 'c' 'w' '4.64' 'k' 'r' '4.77' 'h' 'p p'\n",
      " '7.92' 'z' 'season' 'y' '8.79' 'does None' 'has f' 'ring-type' '16.33'\n",
      " '10.85' '20.07' '2.82' '7.86' '3.91' 'does' '10.23' '6.74' '0.92' '3.45'\n",
      " '1' 'is a' '3.71' '50.44' '11.62' 'has d' '1.32' '8.47' '6.11' '2.41'\n",
      " '2.54' '6.32' '19.65' '15.49' '4.01' '8.37' 'does f' '28.7' '13.15'\n",
      " '1.37' '28.15' '7.09' '9.88' '2.67' '18.21' '1.48' '5.93' '1.51' '16.27'\n",
      " '11.26' '2.79' 'is f' '13.94' '13.42' '6.24' 'class' '8.33' '2.75' '0.95'\n",
      " 'spore-print-color' '1.75' '3.7' '23.73' '1.58' '12.22' '6.35' '17.77'\n",
      " '1.26' '7.18' '8.21' '2.51' '17.11' '10.62' '0.93' '25.92' '4.8' 'e s'\n",
      " '29.82' '1.56' '8.1' '0.88' '11.8' '17.97' '12.99' '23.18' '22.33' '2.86'\n",
      " 'has-ring' '1.83' '0.87' '2.17' 'is None']\n",
      "\n",
      "Column: gill-spacing\n",
      "Unique Values: ['c' nan 'd' 'f' 'x' 'b' 'a' '3.61' '2.69' 'k' '4.8' 'e' 'y' 'class' 's'\n",
      " '9.01' 'p' '3.92' '5.22' '6.67' '4.04' 't' '0.73' 'i' '3.57' '24.38' 'w'\n",
      " 'h' 'cap-surface' 'l' '1' '12.27' '5.42' 'r' '1.6' 'n' 'g' '0' '3.81'\n",
      " '4.09' '1.36' '3.24' '5.55' '5.7' '3.62' 'does f' '6.4' '1.88' '55.13'\n",
      " 'has f' 'm' '1.61' '1.46' '2.93' '3.42' 'does c' '2.98' '6.52' '13.66'\n",
      " 'does None' '1.64' '2.44' '4.92' '1.68' '2.7' '5' '18.89']\n",
      "\n",
      "Column: gill-color\n",
      "Unique Values: ['w' 'n' 'g' 'k' 'y' 'f' 'p' 'o' 'b' 'u' 'e' 'r' 'd' 't' '3.45' 'z' '5'\n",
      " '3.39' 'season' 'h' 'x' 's' '4' 'class' 'c' 'm' 'spacing' '0.92' nan\n",
      " '18.12' 'l' 'does w' 'a' '7.59' '8.06' '6.19' 'has-ring' '4.49' '9.46'\n",
      " '5.01' 'ring-type' '3.4' 'i' '17' '10.07' 'stem-root' '20.6'\n",
      " 'spore-print-color' '18.03' 'does-bruise-or-bleed' '8.83' 'habitat'\n",
      " '10.21' '4.64' '6.4' 'is y' 'e y' '1.91' 'does n' '16.41' '6.41'\n",
      " 'veil-type' '20.44' '8.37' '8.95' '6.3' '1.55' '19.46' '10.56' '12.87'\n",
      " 'is w' '17.26' '18' 'does f' '7.07' '3.38' '8.53' '18.05' '2.6' '7.81'\n",
      " 'has g' '9.69' '10.34' '21.87' '9.41' '4.78' '2.83']\n",
      "\n",
      "Column: stem-surface\n",
      "Unique Values: [nan 'y' 's' 't' 'g' 'h' 'k' 'i' 'f' 'l' 'd' 'x' '12.04' 'w' 'a' 'o' 'c'\n",
      " 'n' 'm' 'e' 'p' 'z' '6.58' '4.34' 'b' '3.89' 'r' '25.83' '1.59' '0.0'\n",
      " '5.97' '5.81' 'u' 'season' '10.48' '3.68' '5.56' '4.41' '5.48' '5.51'\n",
      " 'class' 'has-ring' '13.1' '17.46' '5.35' '7.23' 'does None' '1.03'\n",
      " 'does s' '7.45' 'has h' 'does-bruise-or-bleed' '1.94' '49.46' '19.35'\n",
      " '2.68' '4.74' 'spore-print-color' '10.93' '24.12' '13.94' '2.98' '6.06'\n",
      " '2.95' '6.18' '32.6' '32.63' '9.98' 'cap-diameter' '2.73' '15.25' '5.57'\n",
      " '15.55' '18.35' '3.24' '6.12' '13.09' '4.76' '35.38' 'sp' '6.51' '8.73'\n",
      " '10.14' '13.01' '15.51' '11.53' '4.54' '6.59']\n",
      "\n",
      "Column: stem-color\n",
      "Unique Values: ['w' 'o' 'n' 'y' 'e' 'u' 'p' 'f' 'g' 'r' 'k' 'l' 'b' '3.13' 't' 'z' 'a'\n",
      " 'h' 'd' nan 's' '7.33' 'is n' 'i' 'c' 'x' 'e n' '1.75' 'm' '33.52'\n",
      " 'ring-type' '2.78' 'spore-print-color' '23.59' '8.32' 'is w' '26.4'\n",
      " '4.75' '7.84' 'class' '2.75' '8.49' '4.49' '1.41' '17.45' '3.53' '12.92'\n",
      " '3.98' '20.07' '7.7' '22.6' '6.31' '6.09' '3.56' '3.37' '4.62' '2.54'\n",
      " '39.51' '18.06' '4.33' '3.05' 'stem-root' 'veil-color' '7.35' '8.04'\n",
      " '6.58' 'veil-type' '17.16' 'season' '2.96' '17.49' '10.6' '11.31' '5.5'\n",
      " '11.0' '8.09' '10.93' '6.67' '6.99' '5.61' '6.93' 'does-bruise-or-bleed'\n",
      " '6.28' '2.84' '7.71' '3.66' '3.8' 'habitat' '3.02']\n",
      "\n",
      "Column: has-ring\n",
      "Unique Values: ['f' 't' 'h' 'r' 'y' 'c' 'e' 'g' 'l' 's' nan 'p' 'x' 'k' 'z' 'f has-ring'\n",
      " 'd' 'o' 'n' 'm' 'i' '10.3' 'w' 'a' 'u' 'b' '20.96']\n",
      "\n",
      "Column: ring-type\n",
      "Unique Values: ['f' 'z' 'e' nan 'p' 'l' 'g' 'r' 'm' 'y' 'h' 'o' 't' 'ring-type' 'a' 'd'\n",
      " 's' 'x' '4' 'b' '15' 'u' 'n' 'w' 'does f' '3.12' 'i' 'season' 'k' 'c'\n",
      " 'does-bruise-or-bleed' '11' '23.6' '1' '14' '2' 'spore-print-color'\n",
      " 'class' 'sp' '2.87' '8.25' '3.48' 'is p' '12.63' '10.36' '8.12' '18.5'\n",
      " '9.33']\n",
      "\n",
      "Column: habitat\n",
      "Unique Values: ['d' 'l' 'g' 'h' 'p' 'm' 'u' 'w' 'y' nan 'n' 'a' 's' 'k' 'habitat' 'z'\n",
      " '8.09' '17.1' 'b' 't' 'c' '9.28' 'ring-type' 'e' 'r'\n",
      " 'does-bruise-or-bleed' 'f' 'is w' 'o' '2.94' 'x' '4' 'is h' '5.56'\n",
      " 'class' 'i' '10.07' '7.31' '5.62' 'spore-print-color' 'cap-diameter'\n",
      " '3.11' '16.46' '7.37' 'veil-type' '17.38' '1.66' '6.63' '18.35' '6.75'\n",
      " '2.44' '3.68' '2.25' '4.58' '4.76' 'has-ring' '19.85' '2.53' '9.01'\n",
      " '2.02' '5.84' '7.01' '5.92' '5.83' '1.75' '3.19']\n",
      "\n",
      "Column: season\n",
      "Unique Values: ['a' 'w' 'u' 's']\n",
      "\n"
     ]
    }
   ],
   "source": [
    "# Identify categorical columns (typically of type 'object' or 'category')\n",
    "categorical_columns = com_data.select_dtypes(include=['object', 'category']).columns\n",
    "\n",
    "# Create a dictionary to store unique values for each categorical column\n",
    "unique_values = {}\n",
    "\n",
    "for col in categorical_columns:\n",
    "    unique_values[col] = com_data[col].unique()\n",
    "\n",
    "# Print the results\n",
    "for col, values in unique_values.items():\n",
    "    print(f\"Column: {col}\")\n",
    "    print(f\"Unique Values: {values}\")\n",
    "    print()\n"
   ]
  },
  {
   "cell_type": "code",
   "execution_count": null,
   "id": "c30bc95d",
   "metadata": {
    "papermill": {
     "duration": 0.019189,
     "end_time": "2024-08-13T09:31:31.537729",
     "exception": false,
     "start_time": "2024-08-13T09:31:31.518540",
     "status": "completed"
    },
    "tags": []
   },
   "outputs": [],
   "source": []
  },
  {
   "cell_type": "markdown",
   "id": "7ec5cbc3",
   "metadata": {
    "papermill": {
     "duration": 0.019225,
     "end_time": "2024-08-13T09:31:31.577838",
     "exception": false,
     "start_time": "2024-08-13T09:31:31.558613",
     "status": "completed"
    },
    "tags": []
   },
   "source": [
    "# Data Analysis"
   ]
  },
  {
   "cell_type": "code",
   "execution_count": 32,
   "id": "6f511f1e",
   "metadata": {
    "execution": {
     "iopub.execute_input": "2024-08-13T09:31:31.620209Z",
     "iopub.status.busy": "2024-08-13T09:31:31.619795Z",
     "iopub.status.idle": "2024-08-13T09:31:31.625521Z",
     "shell.execute_reply": "2024-08-13T09:31:31.624207Z"
    },
    "papermill": {
     "duration": 0.030307,
     "end_time": "2024-08-13T09:31:31.628107",
     "exception": false,
     "start_time": "2024-08-13T09:31:31.597800",
     "status": "completed"
    },
    "tags": []
   },
   "outputs": [],
   "source": [
    "# data_ana1 = data_train.copy()"
   ]
  }
 ],
 "metadata": {
  "kaggle": {
   "accelerator": "none",
   "dataSources": [
    {
     "databundleVersionId": 9045607,
     "sourceId": 76727,
     "sourceType": "competition"
    }
   ],
   "dockerImageVersionId": 30746,
   "isGpuEnabled": false,
   "isInternetEnabled": true,
   "language": "python",
   "sourceType": "notebook"
  },
  "kernelspec": {
   "display_name": "Python 3",
   "language": "python",
   "name": "python3"
  },
  "language_info": {
   "codemirror_mode": {
    "name": "ipython",
    "version": 3
   },
   "file_extension": ".py",
   "mimetype": "text/x-python",
   "name": "python",
   "nbconvert_exporter": "python",
   "pygments_lexer": "ipython3",
   "version": "3.10.13"
  },
  "papermill": {
   "default_parameters": {},
   "duration": 135.577987,
   "end_time": "2024-08-13T09:31:33.174030",
   "environment_variables": {},
   "exception": null,
   "input_path": "__notebook__.ipynb",
   "output_path": "__notebook__.ipynb",
   "parameters": {},
   "start_time": "2024-08-13T09:29:17.596043",
   "version": "2.5.0"
  }
 },
 "nbformat": 4,
 "nbformat_minor": 5
}
