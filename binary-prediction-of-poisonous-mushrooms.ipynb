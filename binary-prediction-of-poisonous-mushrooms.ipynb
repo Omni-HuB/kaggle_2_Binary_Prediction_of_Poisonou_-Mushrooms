{
 "cells": [
  {
   "cell_type": "markdown",
   "id": "3cdf0d63",
   "metadata": {
    "papermill": {
     "duration": 0.003371,
     "end_time": "2024-08-01T07:32:40.857197",
     "exception": false,
     "start_time": "2024-08-01T07:32:40.853826",
     "status": "completed"
    },
    "tags": []
   },
   "source": [
    "## importing Libraries"
   ]
  },
  {
   "cell_type": "code",
   "execution_count": 1,
   "id": "42ccac68",
   "metadata": {
    "execution": {
     "iopub.execute_input": "2024-08-01T07:32:40.864989Z",
     "iopub.status.busy": "2024-08-01T07:32:40.864629Z",
     "iopub.status.idle": "2024-08-01T07:32:42.818572Z",
     "shell.execute_reply": "2024-08-01T07:32:42.817517Z"
    },
    "papermill": {
     "duration": 1.960762,
     "end_time": "2024-08-01T07:32:42.821087",
     "exception": false,
     "start_time": "2024-08-01T07:32:40.860325",
     "status": "completed"
    },
    "tags": []
   },
   "outputs": [],
   "source": [
    "import pandas as pd\n",
    "import numpy as np\n",
    "import seaborn as sns\n",
    "import matplotlib.pyplot as plt\n",
    "import warnings\n",
    "import os\n",
    "warnings.filterwarnings('ignore')"
   ]
  },
  {
   "cell_type": "markdown",
   "id": "41514c1b",
   "metadata": {
    "papermill": {
     "duration": 0.002487,
     "end_time": "2024-08-01T07:32:42.826476",
     "exception": false,
     "start_time": "2024-08-01T07:32:42.823989",
     "status": "completed"
    },
    "tags": []
   },
   "source": [
    "## Checking availability of Datasets"
   ]
  },
  {
   "cell_type": "code",
   "execution_count": 2,
   "id": "0e0fdff6",
   "metadata": {
    "_cell_guid": "b1076dfc-b9ad-4769-8c92-a6c4dae69d19",
    "_uuid": "8f2839f25d086af736a60e9eeb907d3b93b6e0e5",
    "execution": {
     "iopub.execute_input": "2024-08-01T07:32:42.833072Z",
     "iopub.status.busy": "2024-08-01T07:32:42.832617Z",
     "iopub.status.idle": "2024-08-01T07:32:42.839605Z",
     "shell.execute_reply": "2024-08-01T07:32:42.838637Z"
    },
    "papermill": {
     "duration": 0.012719,
     "end_time": "2024-08-01T07:32:42.841747",
     "exception": false,
     "start_time": "2024-08-01T07:32:42.829028",
     "status": "completed"
    },
    "tags": []
   },
   "outputs": [
    {
     "name": "stdout",
     "output_type": "stream",
     "text": [
      "dirname: /kaggle/input\n",
      "no file in the directory!! Please add a dataset \n",
      "dirname: /kaggle/input/playground-series-s4e8\n",
      "/kaggle/input/playground-series-s4e8/sample_submission.csv\n",
      "/kaggle/input/playground-series-s4e8/train.csv\n",
      "/kaggle/input/playground-series-s4e8/test.csv\n"
     ]
    }
   ],
   "source": [
    "# Input data files are available in the read-only \"../input/\" directory\n",
    "# For example, running this (by clicking run or pressing Shift+Enter) will list all files under the input directory\n",
    "\n",
    "import os\n",
    "for dirname, _, filenames in os.walk('/kaggle/input'):\n",
    "    print(\"dirname:\" , dirname)\n",
    "    if len(filenames) == 0 :\n",
    "        print(\"no file in the directory!! Please add a dataset \")  \n",
    "        \n",
    "    else:\n",
    "        for filename in filenames:\n",
    "            print(os.path.join(dirname, filename))\n",
    "        \n",
    "       \n",
    "# You can write up to 20GB to the current directory (/kaggle/working/) that gets preserved as output when you create a version using \"Save & Run All\" \n",
    "# You can also write temporary files to /kaggle/temp/, but they won't be saved outside of the current session"
   ]
  },
  {
   "cell_type": "markdown",
   "id": "7ca1ac94",
   "metadata": {
    "papermill": {
     "duration": 0.002551,
     "end_time": "2024-08-01T07:32:42.847049",
     "exception": false,
     "start_time": "2024-08-01T07:32:42.844498",
     "status": "completed"
    },
    "tags": []
   },
   "source": [
    "## Loading Datasets"
   ]
  },
  {
   "cell_type": "code",
   "execution_count": 3,
   "id": "959e70da",
   "metadata": {
    "execution": {
     "iopub.execute_input": "2024-08-01T07:32:42.853671Z",
     "iopub.status.busy": "2024-08-01T07:32:42.853325Z",
     "iopub.status.idle": "2024-08-01T07:32:59.021895Z",
     "shell.execute_reply": "2024-08-01T07:32:59.020741Z"
    },
    "papermill": {
     "duration": 16.174915,
     "end_time": "2024-08-01T07:32:59.024620",
     "exception": false,
     "start_time": "2024-08-01T07:32:42.849705",
     "status": "completed"
    },
    "tags": []
   },
   "outputs": [],
   "source": [
    "data_train=pd.read_csv(\"/kaggle/input/playground-series-s4e8/train.csv\")\n",
    "data_test=pd.read_csv(\"/kaggle/input/playground-series-s4e8/test.csv\")\n",
    "data_sample_sub=pd.read_csv(\"/kaggle/input/playground-series-s4e8/sample_submission.csv\")"
   ]
  },
  {
   "cell_type": "code",
   "execution_count": 4,
   "id": "be358b85",
   "metadata": {
    "execution": {
     "iopub.execute_input": "2024-08-01T07:32:59.032175Z",
     "iopub.status.busy": "2024-08-01T07:32:59.031837Z",
     "iopub.status.idle": "2024-08-01T07:32:59.038943Z",
     "shell.execute_reply": "2024-08-01T07:32:59.037965Z"
    },
    "papermill": {
     "duration": 0.013582,
     "end_time": "2024-08-01T07:32:59.041307",
     "exception": false,
     "start_time": "2024-08-01T07:32:59.027725",
     "status": "completed"
    },
    "tags": []
   },
   "outputs": [
    {
     "data": {
      "text/plain": [
       "(3116945, 22)"
      ]
     },
     "execution_count": 4,
     "metadata": {},
     "output_type": "execute_result"
    }
   ],
   "source": [
    "data_train.shape"
   ]
  },
  {
   "cell_type": "code",
   "execution_count": 5,
   "id": "88adff97",
   "metadata": {
    "execution": {
     "iopub.execute_input": "2024-08-01T07:32:59.049181Z",
     "iopub.status.busy": "2024-08-01T07:32:59.048827Z",
     "iopub.status.idle": "2024-08-01T07:32:59.054963Z",
     "shell.execute_reply": "2024-08-01T07:32:59.053988Z"
    },
    "papermill": {
     "duration": 0.012584,
     "end_time": "2024-08-01T07:32:59.057101",
     "exception": false,
     "start_time": "2024-08-01T07:32:59.044517",
     "status": "completed"
    },
    "tags": []
   },
   "outputs": [
    {
     "data": {
      "text/plain": [
       "(2077964, 21)"
      ]
     },
     "execution_count": 5,
     "metadata": {},
     "output_type": "execute_result"
    }
   ],
   "source": [
    "data_test.shape"
   ]
  },
  {
   "cell_type": "code",
   "execution_count": 6,
   "id": "e20a0156",
   "metadata": {
    "execution": {
     "iopub.execute_input": "2024-08-01T07:32:59.064979Z",
     "iopub.status.busy": "2024-08-01T07:32:59.064648Z",
     "iopub.status.idle": "2024-08-01T07:32:59.071361Z",
     "shell.execute_reply": "2024-08-01T07:32:59.070322Z"
    },
    "papermill": {
     "duration": 0.013042,
     "end_time": "2024-08-01T07:32:59.073539",
     "exception": false,
     "start_time": "2024-08-01T07:32:59.060497",
     "status": "completed"
    },
    "tags": []
   },
   "outputs": [
    {
     "data": {
      "text/plain": [
       "(2077964, 2)"
      ]
     },
     "execution_count": 6,
     "metadata": {},
     "output_type": "execute_result"
    }
   ],
   "source": [
    "data_sample_sub.shape"
   ]
  }
 ],
 "metadata": {
  "kaggle": {
   "accelerator": "none",
   "dataSources": [
    {
     "databundleVersionId": 9045607,
     "sourceId": 76727,
     "sourceType": "competition"
    }
   ],
   "dockerImageVersionId": 30746,
   "isGpuEnabled": false,
   "isInternetEnabled": true,
   "language": "python",
   "sourceType": "notebook"
  },
  "kernelspec": {
   "display_name": "Python 3",
   "language": "python",
   "name": "python3"
  },
  "language_info": {
   "codemirror_mode": {
    "name": "ipython",
    "version": 3
   },
   "file_extension": ".py",
   "mimetype": "text/x-python",
   "name": "python",
   "nbconvert_exporter": "python",
   "pygments_lexer": "ipython3",
   "version": "3.10.13"
  },
  "papermill": {
   "default_parameters": {},
   "duration": 21.702835,
   "end_time": "2024-08-01T07:32:59.998728",
   "environment_variables": {},
   "exception": null,
   "input_path": "__notebook__.ipynb",
   "output_path": "__notebook__.ipynb",
   "parameters": {},
   "start_time": "2024-08-01T07:32:38.295893",
   "version": "2.5.0"
  }
 },
 "nbformat": 4,
 "nbformat_minor": 5
}
