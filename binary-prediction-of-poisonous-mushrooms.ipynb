{
 "cells": [
  {
   "cell_type": "markdown",
   "id": "5307390c",
   "metadata": {
    "papermill": {
     "duration": 0.007711,
     "end_time": "2024-08-02T12:06:05.266978",
     "exception": false,
     "start_time": "2024-08-02T12:06:05.259267",
     "status": "completed"
    },
    "tags": []
   },
   "source": [
    "## importing Libraries"
   ]
  },
  {
   "cell_type": "code",
   "execution_count": 1,
   "id": "d5a85057",
   "metadata": {
    "execution": {
     "iopub.execute_input": "2024-08-02T12:06:05.282793Z",
     "iopub.status.busy": "2024-08-02T12:06:05.281938Z",
     "iopub.status.idle": "2024-08-02T12:06:08.093508Z",
     "shell.execute_reply": "2024-08-02T12:06:08.092297Z"
    },
    "papermill": {
     "duration": 2.822293,
     "end_time": "2024-08-02T12:06:08.096105",
     "exception": false,
     "start_time": "2024-08-02T12:06:05.273812",
     "status": "completed"
    },
    "tags": []
   },
   "outputs": [],
   "source": [
    "import pandas as pd\n",
    "import numpy as np\n",
    "import seaborn as sns\n",
    "import matplotlib.pyplot as plt\n",
    "import warnings\n",
    "import os\n",
    "warnings.filterwarnings('ignore')"
   ]
  },
  {
   "cell_type": "markdown",
   "id": "97fc0d8c",
   "metadata": {
    "papermill": {
     "duration": 0.006404,
     "end_time": "2024-08-02T12:06:08.109363",
     "exception": false,
     "start_time": "2024-08-02T12:06:08.102959",
     "status": "completed"
    },
    "tags": []
   },
   "source": [
    "## Checking availability of Datasets"
   ]
  },
  {
   "cell_type": "code",
   "execution_count": 2,
   "id": "6930a3fa",
   "metadata": {
    "_cell_guid": "b1076dfc-b9ad-4769-8c92-a6c4dae69d19",
    "_uuid": "8f2839f25d086af736a60e9eeb907d3b93b6e0e5",
    "execution": {
     "iopub.execute_input": "2024-08-02T12:06:08.125247Z",
     "iopub.status.busy": "2024-08-02T12:06:08.124580Z",
     "iopub.status.idle": "2024-08-02T12:06:08.135521Z",
     "shell.execute_reply": "2024-08-02T12:06:08.133789Z"
    },
    "papermill": {
     "duration": 0.022125,
     "end_time": "2024-08-02T12:06:08.138045",
     "exception": false,
     "start_time": "2024-08-02T12:06:08.115920",
     "status": "completed"
    },
    "tags": []
   },
   "outputs": [
    {
     "name": "stdout",
     "output_type": "stream",
     "text": [
      "dirname: /kaggle/input\n",
      "no file in the directory!! Please add a dataset \n",
      "dirname: /kaggle/input/playground-series-s4e8\n",
      "/kaggle/input/playground-series-s4e8/sample_submission.csv\n",
      "/kaggle/input/playground-series-s4e8/train.csv\n",
      "/kaggle/input/playground-series-s4e8/test.csv\n"
     ]
    }
   ],
   "source": [
    "# Input data files are available in the read-only \"../input/\" directory\n",
    "# For example, running this (by clicking run or pressing Shift+Enter) will list all files under the input directory\n",
    "\n",
    "import os\n",
    "for dirname, _, filenames in os.walk('/kaggle/input'):\n",
    "    print(\"dirname:\" , dirname)\n",
    "    if len(filenames) == 0 :\n",
    "        print(\"no file in the directory!! Please add a dataset \")  \n",
    "        \n",
    "    else:\n",
    "        for filename in filenames:\n",
    "            print(os.path.join(dirname, filename))\n",
    "        \n",
    "       \n",
    "# You can write up to 20GB to the current directory (/kaggle/working/) that gets preserved as output when you create a version using \"Save & Run All\" \n",
    "# You can also write temporary files to /kaggle/temp/, but they won't be saved outside of the current session"
   ]
  },
  {
   "cell_type": "markdown",
   "id": "4eef58fd",
   "metadata": {
    "papermill": {
     "duration": 0.007436,
     "end_time": "2024-08-02T12:06:08.152745",
     "exception": false,
     "start_time": "2024-08-02T12:06:08.145309",
     "status": "completed"
    },
    "tags": []
   },
   "source": [
    "## Loading Datasets"
   ]
  },
  {
   "cell_type": "code",
   "execution_count": 3,
   "id": "21d4418d",
   "metadata": {
    "execution": {
     "iopub.execute_input": "2024-08-02T12:06:08.169104Z",
     "iopub.status.busy": "2024-08-02T12:06:08.168642Z",
     "iopub.status.idle": "2024-08-02T12:06:26.815583Z",
     "shell.execute_reply": "2024-08-02T12:06:26.814430Z"
    },
    "papermill": {
     "duration": 18.658491,
     "end_time": "2024-08-02T12:06:26.818414",
     "exception": false,
     "start_time": "2024-08-02T12:06:08.159923",
     "status": "completed"
    },
    "tags": []
   },
   "outputs": [],
   "source": [
    "data_train=pd.read_csv(\"/kaggle/input/playground-series-s4e8/train.csv\")\n",
    "data_test=pd.read_csv(\"/kaggle/input/playground-series-s4e8/test.csv\")\n",
    "data_sample_sub=pd.read_csv(\"/kaggle/input/playground-series-s4e8/sample_submission.csv\")"
   ]
  },
  {
   "cell_type": "markdown",
   "id": "3af31af0",
   "metadata": {
    "papermill": {
     "duration": 0.006637,
     "end_time": "2024-08-02T12:06:26.832062",
     "exception": false,
     "start_time": "2024-08-02T12:06:26.825425",
     "status": "completed"
    },
    "tags": []
   },
   "source": [
    "## EDA on Training Dataset\n"
   ]
  },
  {
   "cell_type": "code",
   "execution_count": 4,
   "id": "37cc39aa",
   "metadata": {
    "execution": {
     "iopub.execute_input": "2024-08-02T12:06:26.848296Z",
     "iopub.status.busy": "2024-08-02T12:06:26.847922Z",
     "iopub.status.idle": "2024-08-02T12:06:26.855896Z",
     "shell.execute_reply": "2024-08-02T12:06:26.854838Z"
    },
    "papermill": {
     "duration": 0.019241,
     "end_time": "2024-08-02T12:06:26.858110",
     "exception": false,
     "start_time": "2024-08-02T12:06:26.838869",
     "status": "completed"
    },
    "tags": []
   },
   "outputs": [
    {
     "data": {
      "text/plain": [
       "(3116945, 22)"
      ]
     },
     "execution_count": 4,
     "metadata": {},
     "output_type": "execute_result"
    }
   ],
   "source": [
    "data_train.shape"
   ]
  },
  {
   "cell_type": "code",
   "execution_count": 5,
   "id": "f93bce3d",
   "metadata": {
    "execution": {
     "iopub.execute_input": "2024-08-02T12:06:26.873676Z",
     "iopub.status.busy": "2024-08-02T12:06:26.873253Z",
     "iopub.status.idle": "2024-08-02T12:06:26.921136Z",
     "shell.execute_reply": "2024-08-02T12:06:26.919922Z"
    },
    "papermill": {
     "duration": 0.058895,
     "end_time": "2024-08-02T12:06:26.923979",
     "exception": false,
     "start_time": "2024-08-02T12:06:26.865084",
     "status": "completed"
    },
    "tags": []
   },
   "outputs": [
    {
     "data": {
      "text/html": [
       "<div>\n",
       "<style scoped>\n",
       "    .dataframe tbody tr th:only-of-type {\n",
       "        vertical-align: middle;\n",
       "    }\n",
       "\n",
       "    .dataframe tbody tr th {\n",
       "        vertical-align: top;\n",
       "    }\n",
       "\n",
       "    .dataframe thead th {\n",
       "        text-align: right;\n",
       "    }\n",
       "</style>\n",
       "<table border=\"1\" class=\"dataframe\">\n",
       "  <thead>\n",
       "    <tr style=\"text-align: right;\">\n",
       "      <th></th>\n",
       "      <th>id</th>\n",
       "      <th>class</th>\n",
       "      <th>cap-diameter</th>\n",
       "      <th>cap-shape</th>\n",
       "      <th>cap-surface</th>\n",
       "      <th>cap-color</th>\n",
       "      <th>does-bruise-or-bleed</th>\n",
       "      <th>gill-attachment</th>\n",
       "      <th>gill-spacing</th>\n",
       "      <th>gill-color</th>\n",
       "      <th>...</th>\n",
       "      <th>stem-root</th>\n",
       "      <th>stem-surface</th>\n",
       "      <th>stem-color</th>\n",
       "      <th>veil-type</th>\n",
       "      <th>veil-color</th>\n",
       "      <th>has-ring</th>\n",
       "      <th>ring-type</th>\n",
       "      <th>spore-print-color</th>\n",
       "      <th>habitat</th>\n",
       "      <th>season</th>\n",
       "    </tr>\n",
       "  </thead>\n",
       "  <tbody>\n",
       "    <tr>\n",
       "      <th>0</th>\n",
       "      <td>0</td>\n",
       "      <td>e</td>\n",
       "      <td>8.80</td>\n",
       "      <td>f</td>\n",
       "      <td>s</td>\n",
       "      <td>u</td>\n",
       "      <td>f</td>\n",
       "      <td>a</td>\n",
       "      <td>c</td>\n",
       "      <td>w</td>\n",
       "      <td>...</td>\n",
       "      <td>NaN</td>\n",
       "      <td>NaN</td>\n",
       "      <td>w</td>\n",
       "      <td>NaN</td>\n",
       "      <td>NaN</td>\n",
       "      <td>f</td>\n",
       "      <td>f</td>\n",
       "      <td>NaN</td>\n",
       "      <td>d</td>\n",
       "      <td>a</td>\n",
       "    </tr>\n",
       "    <tr>\n",
       "      <th>1</th>\n",
       "      <td>1</td>\n",
       "      <td>p</td>\n",
       "      <td>4.51</td>\n",
       "      <td>x</td>\n",
       "      <td>h</td>\n",
       "      <td>o</td>\n",
       "      <td>f</td>\n",
       "      <td>a</td>\n",
       "      <td>c</td>\n",
       "      <td>n</td>\n",
       "      <td>...</td>\n",
       "      <td>NaN</td>\n",
       "      <td>y</td>\n",
       "      <td>o</td>\n",
       "      <td>NaN</td>\n",
       "      <td>NaN</td>\n",
       "      <td>t</td>\n",
       "      <td>z</td>\n",
       "      <td>NaN</td>\n",
       "      <td>d</td>\n",
       "      <td>w</td>\n",
       "    </tr>\n",
       "    <tr>\n",
       "      <th>2</th>\n",
       "      <td>2</td>\n",
       "      <td>e</td>\n",
       "      <td>6.94</td>\n",
       "      <td>f</td>\n",
       "      <td>s</td>\n",
       "      <td>b</td>\n",
       "      <td>f</td>\n",
       "      <td>x</td>\n",
       "      <td>c</td>\n",
       "      <td>w</td>\n",
       "      <td>...</td>\n",
       "      <td>NaN</td>\n",
       "      <td>s</td>\n",
       "      <td>n</td>\n",
       "      <td>NaN</td>\n",
       "      <td>NaN</td>\n",
       "      <td>f</td>\n",
       "      <td>f</td>\n",
       "      <td>NaN</td>\n",
       "      <td>l</td>\n",
       "      <td>w</td>\n",
       "    </tr>\n",
       "    <tr>\n",
       "      <th>3</th>\n",
       "      <td>3</td>\n",
       "      <td>e</td>\n",
       "      <td>3.88</td>\n",
       "      <td>f</td>\n",
       "      <td>y</td>\n",
       "      <td>g</td>\n",
       "      <td>f</td>\n",
       "      <td>s</td>\n",
       "      <td>NaN</td>\n",
       "      <td>g</td>\n",
       "      <td>...</td>\n",
       "      <td>NaN</td>\n",
       "      <td>NaN</td>\n",
       "      <td>w</td>\n",
       "      <td>NaN</td>\n",
       "      <td>NaN</td>\n",
       "      <td>f</td>\n",
       "      <td>f</td>\n",
       "      <td>NaN</td>\n",
       "      <td>d</td>\n",
       "      <td>u</td>\n",
       "    </tr>\n",
       "    <tr>\n",
       "      <th>4</th>\n",
       "      <td>4</td>\n",
       "      <td>e</td>\n",
       "      <td>5.85</td>\n",
       "      <td>x</td>\n",
       "      <td>l</td>\n",
       "      <td>w</td>\n",
       "      <td>f</td>\n",
       "      <td>d</td>\n",
       "      <td>NaN</td>\n",
       "      <td>w</td>\n",
       "      <td>...</td>\n",
       "      <td>NaN</td>\n",
       "      <td>NaN</td>\n",
       "      <td>w</td>\n",
       "      <td>NaN</td>\n",
       "      <td>NaN</td>\n",
       "      <td>f</td>\n",
       "      <td>f</td>\n",
       "      <td>NaN</td>\n",
       "      <td>g</td>\n",
       "      <td>a</td>\n",
       "    </tr>\n",
       "    <tr>\n",
       "      <th>5</th>\n",
       "      <td>5</td>\n",
       "      <td>p</td>\n",
       "      <td>4.30</td>\n",
       "      <td>x</td>\n",
       "      <td>t</td>\n",
       "      <td>n</td>\n",
       "      <td>f</td>\n",
       "      <td>s</td>\n",
       "      <td>c</td>\n",
       "      <td>n</td>\n",
       "      <td>...</td>\n",
       "      <td>NaN</td>\n",
       "      <td>NaN</td>\n",
       "      <td>w</td>\n",
       "      <td>NaN</td>\n",
       "      <td>n</td>\n",
       "      <td>t</td>\n",
       "      <td>z</td>\n",
       "      <td>NaN</td>\n",
       "      <td>d</td>\n",
       "      <td>a</td>\n",
       "    </tr>\n",
       "    <tr>\n",
       "      <th>6</th>\n",
       "      <td>6</td>\n",
       "      <td>e</td>\n",
       "      <td>9.65</td>\n",
       "      <td>p</td>\n",
       "      <td>y</td>\n",
       "      <td>w</td>\n",
       "      <td>f</td>\n",
       "      <td>e</td>\n",
       "      <td>c</td>\n",
       "      <td>k</td>\n",
       "      <td>...</td>\n",
       "      <td>NaN</td>\n",
       "      <td>s</td>\n",
       "      <td>w</td>\n",
       "      <td>NaN</td>\n",
       "      <td>NaN</td>\n",
       "      <td>t</td>\n",
       "      <td>e</td>\n",
       "      <td>NaN</td>\n",
       "      <td>g</td>\n",
       "      <td>w</td>\n",
       "    </tr>\n",
       "    <tr>\n",
       "      <th>7</th>\n",
       "      <td>7</td>\n",
       "      <td>p</td>\n",
       "      <td>4.55</td>\n",
       "      <td>x</td>\n",
       "      <td>e</td>\n",
       "      <td>e</td>\n",
       "      <td>f</td>\n",
       "      <td>a</td>\n",
       "      <td>NaN</td>\n",
       "      <td>y</td>\n",
       "      <td>...</td>\n",
       "      <td>NaN</td>\n",
       "      <td>NaN</td>\n",
       "      <td>y</td>\n",
       "      <td>NaN</td>\n",
       "      <td>w</td>\n",
       "      <td>t</td>\n",
       "      <td>z</td>\n",
       "      <td>NaN</td>\n",
       "      <td>d</td>\n",
       "      <td>a</td>\n",
       "    </tr>\n",
       "    <tr>\n",
       "      <th>8</th>\n",
       "      <td>8</td>\n",
       "      <td>p</td>\n",
       "      <td>7.36</td>\n",
       "      <td>f</td>\n",
       "      <td>h</td>\n",
       "      <td>e</td>\n",
       "      <td>f</td>\n",
       "      <td>x</td>\n",
       "      <td>d</td>\n",
       "      <td>w</td>\n",
       "      <td>...</td>\n",
       "      <td>b</td>\n",
       "      <td>NaN</td>\n",
       "      <td>w</td>\n",
       "      <td>NaN</td>\n",
       "      <td>NaN</td>\n",
       "      <td>f</td>\n",
       "      <td>f</td>\n",
       "      <td>NaN</td>\n",
       "      <td>d</td>\n",
       "      <td>a</td>\n",
       "    </tr>\n",
       "    <tr>\n",
       "      <th>9</th>\n",
       "      <td>9</td>\n",
       "      <td>e</td>\n",
       "      <td>6.45</td>\n",
       "      <td>x</td>\n",
       "      <td>t</td>\n",
       "      <td>n</td>\n",
       "      <td>f</td>\n",
       "      <td>a</td>\n",
       "      <td>d</td>\n",
       "      <td>w</td>\n",
       "      <td>...</td>\n",
       "      <td>NaN</td>\n",
       "      <td>NaN</td>\n",
       "      <td>e</td>\n",
       "      <td>NaN</td>\n",
       "      <td>NaN</td>\n",
       "      <td>f</td>\n",
       "      <td>f</td>\n",
       "      <td>NaN</td>\n",
       "      <td>d</td>\n",
       "      <td>a</td>\n",
       "    </tr>\n",
       "    <tr>\n",
       "      <th>10</th>\n",
       "      <td>10</td>\n",
       "      <td>e</td>\n",
       "      <td>7.49</td>\n",
       "      <td>f</td>\n",
       "      <td>t</td>\n",
       "      <td>n</td>\n",
       "      <td>f</td>\n",
       "      <td>s</td>\n",
       "      <td>NaN</td>\n",
       "      <td>n</td>\n",
       "      <td>...</td>\n",
       "      <td>NaN</td>\n",
       "      <td>t</td>\n",
       "      <td>o</td>\n",
       "      <td>NaN</td>\n",
       "      <td>NaN</td>\n",
       "      <td>f</td>\n",
       "      <td>f</td>\n",
       "      <td>NaN</td>\n",
       "      <td>d</td>\n",
       "      <td>a</td>\n",
       "    </tr>\n",
       "    <tr>\n",
       "      <th>11</th>\n",
       "      <td>11</td>\n",
       "      <td>e</td>\n",
       "      <td>8.30</td>\n",
       "      <td>x</td>\n",
       "      <td>y</td>\n",
       "      <td>n</td>\n",
       "      <td>f</td>\n",
       "      <td>NaN</td>\n",
       "      <td>NaN</td>\n",
       "      <td>w</td>\n",
       "      <td>...</td>\n",
       "      <td>b</td>\n",
       "      <td>NaN</td>\n",
       "      <td>n</td>\n",
       "      <td>NaN</td>\n",
       "      <td>w</td>\n",
       "      <td>t</td>\n",
       "      <td>e</td>\n",
       "      <td>NaN</td>\n",
       "      <td>d</td>\n",
       "      <td>w</td>\n",
       "    </tr>\n",
       "    <tr>\n",
       "      <th>12</th>\n",
       "      <td>12</td>\n",
       "      <td>e</td>\n",
       "      <td>2.74</td>\n",
       "      <td>b</td>\n",
       "      <td>g</td>\n",
       "      <td>n</td>\n",
       "      <td>f</td>\n",
       "      <td>a</td>\n",
       "      <td>d</td>\n",
       "      <td>g</td>\n",
       "      <td>...</td>\n",
       "      <td>NaN</td>\n",
       "      <td>s</td>\n",
       "      <td>n</td>\n",
       "      <td>NaN</td>\n",
       "      <td>NaN</td>\n",
       "      <td>f</td>\n",
       "      <td>f</td>\n",
       "      <td>NaN</td>\n",
       "      <td>d</td>\n",
       "      <td>s</td>\n",
       "    </tr>\n",
       "    <tr>\n",
       "      <th>13</th>\n",
       "      <td>13</td>\n",
       "      <td>e</td>\n",
       "      <td>6.53</td>\n",
       "      <td>x</td>\n",
       "      <td>y</td>\n",
       "      <td>n</td>\n",
       "      <td>f</td>\n",
       "      <td>e</td>\n",
       "      <td>c</td>\n",
       "      <td>w</td>\n",
       "      <td>...</td>\n",
       "      <td>NaN</td>\n",
       "      <td>y</td>\n",
       "      <td>n</td>\n",
       "      <td>NaN</td>\n",
       "      <td>NaN</td>\n",
       "      <td>f</td>\n",
       "      <td>f</td>\n",
       "      <td>NaN</td>\n",
       "      <td>d</td>\n",
       "      <td>a</td>\n",
       "    </tr>\n",
       "    <tr>\n",
       "      <th>14</th>\n",
       "      <td>14</td>\n",
       "      <td>p</td>\n",
       "      <td>3.91</td>\n",
       "      <td>b</td>\n",
       "      <td>t</td>\n",
       "      <td>n</td>\n",
       "      <td>f</td>\n",
       "      <td>NaN</td>\n",
       "      <td>NaN</td>\n",
       "      <td>n</td>\n",
       "      <td>...</td>\n",
       "      <td>NaN</td>\n",
       "      <td>NaN</td>\n",
       "      <td>w</td>\n",
       "      <td>NaN</td>\n",
       "      <td>NaN</td>\n",
       "      <td>t</td>\n",
       "      <td>NaN</td>\n",
       "      <td>k</td>\n",
       "      <td>g</td>\n",
       "      <td>u</td>\n",
       "    </tr>\n",
       "    <tr>\n",
       "      <th>15</th>\n",
       "      <td>15</td>\n",
       "      <td>p</td>\n",
       "      <td>2.82</td>\n",
       "      <td>o</td>\n",
       "      <td>NaN</td>\n",
       "      <td>n</td>\n",
       "      <td>f</td>\n",
       "      <td>f</td>\n",
       "      <td>f</td>\n",
       "      <td>f</td>\n",
       "      <td>...</td>\n",
       "      <td>NaN</td>\n",
       "      <td>g</td>\n",
       "      <td>n</td>\n",
       "      <td>NaN</td>\n",
       "      <td>NaN</td>\n",
       "      <td>f</td>\n",
       "      <td>f</td>\n",
       "      <td>NaN</td>\n",
       "      <td>d</td>\n",
       "      <td>u</td>\n",
       "    </tr>\n",
       "    <tr>\n",
       "      <th>16</th>\n",
       "      <td>16</td>\n",
       "      <td>p</td>\n",
       "      <td>7.65</td>\n",
       "      <td>x</td>\n",
       "      <td>g</td>\n",
       "      <td>n</td>\n",
       "      <td>f</td>\n",
       "      <td>e</td>\n",
       "      <td>NaN</td>\n",
       "      <td>w</td>\n",
       "      <td>...</td>\n",
       "      <td>NaN</td>\n",
       "      <td>y</td>\n",
       "      <td>w</td>\n",
       "      <td>u</td>\n",
       "      <td>w</td>\n",
       "      <td>t</td>\n",
       "      <td>p</td>\n",
       "      <td>NaN</td>\n",
       "      <td>d</td>\n",
       "      <td>a</td>\n",
       "    </tr>\n",
       "    <tr>\n",
       "      <th>17</th>\n",
       "      <td>17</td>\n",
       "      <td>p</td>\n",
       "      <td>9.87</td>\n",
       "      <td>p</td>\n",
       "      <td>NaN</td>\n",
       "      <td>n</td>\n",
       "      <td>f</td>\n",
       "      <td>p</td>\n",
       "      <td>NaN</td>\n",
       "      <td>p</td>\n",
       "      <td>...</td>\n",
       "      <td>c</td>\n",
       "      <td>NaN</td>\n",
       "      <td>n</td>\n",
       "      <td>NaN</td>\n",
       "      <td>NaN</td>\n",
       "      <td>f</td>\n",
       "      <td>f</td>\n",
       "      <td>w</td>\n",
       "      <td>d</td>\n",
       "      <td>u</td>\n",
       "    </tr>\n",
       "    <tr>\n",
       "      <th>18</th>\n",
       "      <td>18</td>\n",
       "      <td>e</td>\n",
       "      <td>0.74</td>\n",
       "      <td>c</td>\n",
       "      <td>g</td>\n",
       "      <td>e</td>\n",
       "      <td>t</td>\n",
       "      <td>a</td>\n",
       "      <td>NaN</td>\n",
       "      <td>p</td>\n",
       "      <td>...</td>\n",
       "      <td>NaN</td>\n",
       "      <td>NaN</td>\n",
       "      <td>n</td>\n",
       "      <td>NaN</td>\n",
       "      <td>NaN</td>\n",
       "      <td>f</td>\n",
       "      <td>f</td>\n",
       "      <td>NaN</td>\n",
       "      <td>h</td>\n",
       "      <td>u</td>\n",
       "    </tr>\n",
       "    <tr>\n",
       "      <th>19</th>\n",
       "      <td>19</td>\n",
       "      <td>p</td>\n",
       "      <td>7.43</td>\n",
       "      <td>s</td>\n",
       "      <td>d</td>\n",
       "      <td>n</td>\n",
       "      <td>t</td>\n",
       "      <td>d</td>\n",
       "      <td>c</td>\n",
       "      <td>y</td>\n",
       "      <td>...</td>\n",
       "      <td>NaN</td>\n",
       "      <td>NaN</td>\n",
       "      <td>e</td>\n",
       "      <td>NaN</td>\n",
       "      <td>NaN</td>\n",
       "      <td>f</td>\n",
       "      <td>f</td>\n",
       "      <td>NaN</td>\n",
       "      <td>d</td>\n",
       "      <td>a</td>\n",
       "    </tr>\n",
       "  </tbody>\n",
       "</table>\n",
       "<p>20 rows × 22 columns</p>\n",
       "</div>"
      ],
      "text/plain": [
       "    id class  cap-diameter cap-shape cap-surface cap-color  \\\n",
       "0    0     e          8.80         f           s         u   \n",
       "1    1     p          4.51         x           h         o   \n",
       "2    2     e          6.94         f           s         b   \n",
       "3    3     e          3.88         f           y         g   \n",
       "4    4     e          5.85         x           l         w   \n",
       "5    5     p          4.30         x           t         n   \n",
       "6    6     e          9.65         p           y         w   \n",
       "7    7     p          4.55         x           e         e   \n",
       "8    8     p          7.36         f           h         e   \n",
       "9    9     e          6.45         x           t         n   \n",
       "10  10     e          7.49         f           t         n   \n",
       "11  11     e          8.30         x           y         n   \n",
       "12  12     e          2.74         b           g         n   \n",
       "13  13     e          6.53         x           y         n   \n",
       "14  14     p          3.91         b           t         n   \n",
       "15  15     p          2.82         o         NaN         n   \n",
       "16  16     p          7.65         x           g         n   \n",
       "17  17     p          9.87         p         NaN         n   \n",
       "18  18     e          0.74         c           g         e   \n",
       "19  19     p          7.43         s           d         n   \n",
       "\n",
       "   does-bruise-or-bleed gill-attachment gill-spacing gill-color  ...  \\\n",
       "0                     f               a            c          w  ...   \n",
       "1                     f               a            c          n  ...   \n",
       "2                     f               x            c          w  ...   \n",
       "3                     f               s          NaN          g  ...   \n",
       "4                     f               d          NaN          w  ...   \n",
       "5                     f               s            c          n  ...   \n",
       "6                     f               e            c          k  ...   \n",
       "7                     f               a          NaN          y  ...   \n",
       "8                     f               x            d          w  ...   \n",
       "9                     f               a            d          w  ...   \n",
       "10                    f               s          NaN          n  ...   \n",
       "11                    f             NaN          NaN          w  ...   \n",
       "12                    f               a            d          g  ...   \n",
       "13                    f               e            c          w  ...   \n",
       "14                    f             NaN          NaN          n  ...   \n",
       "15                    f               f            f          f  ...   \n",
       "16                    f               e          NaN          w  ...   \n",
       "17                    f               p          NaN          p  ...   \n",
       "18                    t               a          NaN          p  ...   \n",
       "19                    t               d            c          y  ...   \n",
       "\n",
       "    stem-root  stem-surface stem-color veil-type veil-color has-ring  \\\n",
       "0         NaN           NaN          w       NaN        NaN        f   \n",
       "1         NaN             y          o       NaN        NaN        t   \n",
       "2         NaN             s          n       NaN        NaN        f   \n",
       "3         NaN           NaN          w       NaN        NaN        f   \n",
       "4         NaN           NaN          w       NaN        NaN        f   \n",
       "5         NaN           NaN          w       NaN          n        t   \n",
       "6         NaN             s          w       NaN        NaN        t   \n",
       "7         NaN           NaN          y       NaN          w        t   \n",
       "8           b           NaN          w       NaN        NaN        f   \n",
       "9         NaN           NaN          e       NaN        NaN        f   \n",
       "10        NaN             t          o       NaN        NaN        f   \n",
       "11          b           NaN          n       NaN          w        t   \n",
       "12        NaN             s          n       NaN        NaN        f   \n",
       "13        NaN             y          n       NaN        NaN        f   \n",
       "14        NaN           NaN          w       NaN        NaN        t   \n",
       "15        NaN             g          n       NaN        NaN        f   \n",
       "16        NaN             y          w         u          w        t   \n",
       "17          c           NaN          n       NaN        NaN        f   \n",
       "18        NaN           NaN          n       NaN        NaN        f   \n",
       "19        NaN           NaN          e       NaN        NaN        f   \n",
       "\n",
       "   ring-type spore-print-color habitat season  \n",
       "0          f               NaN       d      a  \n",
       "1          z               NaN       d      w  \n",
       "2          f               NaN       l      w  \n",
       "3          f               NaN       d      u  \n",
       "4          f               NaN       g      a  \n",
       "5          z               NaN       d      a  \n",
       "6          e               NaN       g      w  \n",
       "7          z               NaN       d      a  \n",
       "8          f               NaN       d      a  \n",
       "9          f               NaN       d      a  \n",
       "10         f               NaN       d      a  \n",
       "11         e               NaN       d      w  \n",
       "12         f               NaN       d      s  \n",
       "13         f               NaN       d      a  \n",
       "14       NaN                 k       g      u  \n",
       "15         f               NaN       d      u  \n",
       "16         p               NaN       d      a  \n",
       "17         f                 w       d      u  \n",
       "18         f               NaN       h      u  \n",
       "19         f               NaN       d      a  \n",
       "\n",
       "[20 rows x 22 columns]"
      ]
     },
     "execution_count": 5,
     "metadata": {},
     "output_type": "execute_result"
    }
   ],
   "source": [
    "data_train.head(20)"
   ]
  },
  {
   "cell_type": "code",
   "execution_count": 6,
   "id": "46af7348",
   "metadata": {
    "execution": {
     "iopub.execute_input": "2024-08-02T12:06:26.940620Z",
     "iopub.status.busy": "2024-08-02T12:06:26.940208Z",
     "iopub.status.idle": "2024-08-02T12:06:26.964007Z",
     "shell.execute_reply": "2024-08-02T12:06:26.962760Z"
    },
    "papermill": {
     "duration": 0.035066,
     "end_time": "2024-08-02T12:06:26.966621",
     "exception": false,
     "start_time": "2024-08-02T12:06:26.931555",
     "status": "completed"
    },
    "tags": []
   },
   "outputs": [
    {
     "name": "stdout",
     "output_type": "stream",
     "text": [
      "<class 'pandas.core.frame.DataFrame'>\n",
      "RangeIndex: 3116945 entries, 0 to 3116944\n",
      "Data columns (total 22 columns):\n",
      " #   Column                Dtype  \n",
      "---  ------                -----  \n",
      " 0   id                    int64  \n",
      " 1   class                 object \n",
      " 2   cap-diameter          float64\n",
      " 3   cap-shape             object \n",
      " 4   cap-surface           object \n",
      " 5   cap-color             object \n",
      " 6   does-bruise-or-bleed  object \n",
      " 7   gill-attachment       object \n",
      " 8   gill-spacing          object \n",
      " 9   gill-color            object \n",
      " 10  stem-height           float64\n",
      " 11  stem-width            float64\n",
      " 12  stem-root             object \n",
      " 13  stem-surface          object \n",
      " 14  stem-color            object \n",
      " 15  veil-type             object \n",
      " 16  veil-color            object \n",
      " 17  has-ring              object \n",
      " 18  ring-type             object \n",
      " 19  spore-print-color     object \n",
      " 20  habitat               object \n",
      " 21  season                object \n",
      "dtypes: float64(3), int64(1), object(18)\n",
      "memory usage: 523.2+ MB\n"
     ]
    }
   ],
   "source": [
    "data_train.info()"
   ]
  },
  {
   "cell_type": "code",
   "execution_count": 7,
   "id": "7ce93294",
   "metadata": {
    "execution": {
     "iopub.execute_input": "2024-08-02T12:06:26.983657Z",
     "iopub.status.busy": "2024-08-02T12:06:26.983258Z",
     "iopub.status.idle": "2024-08-02T12:06:32.266363Z",
     "shell.execute_reply": "2024-08-02T12:06:32.265235Z"
    },
    "papermill": {
     "duration": 5.294577,
     "end_time": "2024-08-02T12:06:32.269049",
     "exception": false,
     "start_time": "2024-08-02T12:06:26.974472",
     "status": "completed"
    },
    "tags": []
   },
   "outputs": [
    {
     "data": {
      "text/html": [
       "<div>\n",
       "<style scoped>\n",
       "    .dataframe tbody tr th:only-of-type {\n",
       "        vertical-align: middle;\n",
       "    }\n",
       "\n",
       "    .dataframe tbody tr th {\n",
       "        vertical-align: top;\n",
       "    }\n",
       "\n",
       "    .dataframe thead th {\n",
       "        text-align: right;\n",
       "    }\n",
       "</style>\n",
       "<table border=\"1\" class=\"dataframe\">\n",
       "  <thead>\n",
       "    <tr style=\"text-align: right;\">\n",
       "      <th></th>\n",
       "      <th>id</th>\n",
       "      <th>class</th>\n",
       "      <th>cap-diameter</th>\n",
       "      <th>cap-shape</th>\n",
       "      <th>cap-surface</th>\n",
       "      <th>cap-color</th>\n",
       "      <th>does-bruise-or-bleed</th>\n",
       "      <th>gill-attachment</th>\n",
       "      <th>gill-spacing</th>\n",
       "      <th>gill-color</th>\n",
       "      <th>...</th>\n",
       "      <th>stem-root</th>\n",
       "      <th>stem-surface</th>\n",
       "      <th>stem-color</th>\n",
       "      <th>veil-type</th>\n",
       "      <th>veil-color</th>\n",
       "      <th>has-ring</th>\n",
       "      <th>ring-type</th>\n",
       "      <th>spore-print-color</th>\n",
       "      <th>habitat</th>\n",
       "      <th>season</th>\n",
       "    </tr>\n",
       "  </thead>\n",
       "  <tbody>\n",
       "    <tr>\n",
       "      <th>count</th>\n",
       "      <td>3.116945e+06</td>\n",
       "      <td>3116945</td>\n",
       "      <td>3.116941e+06</td>\n",
       "      <td>3116905</td>\n",
       "      <td>2445922</td>\n",
       "      <td>3116933</td>\n",
       "      <td>3116937</td>\n",
       "      <td>2593009</td>\n",
       "      <td>1858510</td>\n",
       "      <td>3116888</td>\n",
       "      <td>...</td>\n",
       "      <td>359922</td>\n",
       "      <td>1136084</td>\n",
       "      <td>3116907</td>\n",
       "      <td>159452</td>\n",
       "      <td>375998</td>\n",
       "      <td>3116921</td>\n",
       "      <td>2988065</td>\n",
       "      <td>267263</td>\n",
       "      <td>3116900</td>\n",
       "      <td>3116945</td>\n",
       "    </tr>\n",
       "    <tr>\n",
       "      <th>unique</th>\n",
       "      <td>NaN</td>\n",
       "      <td>2</td>\n",
       "      <td>NaN</td>\n",
       "      <td>74</td>\n",
       "      <td>83</td>\n",
       "      <td>78</td>\n",
       "      <td>26</td>\n",
       "      <td>78</td>\n",
       "      <td>48</td>\n",
       "      <td>63</td>\n",
       "      <td>...</td>\n",
       "      <td>38</td>\n",
       "      <td>60</td>\n",
       "      <td>59</td>\n",
       "      <td>22</td>\n",
       "      <td>24</td>\n",
       "      <td>23</td>\n",
       "      <td>40</td>\n",
       "      <td>32</td>\n",
       "      <td>52</td>\n",
       "      <td>4</td>\n",
       "    </tr>\n",
       "    <tr>\n",
       "      <th>top</th>\n",
       "      <td>NaN</td>\n",
       "      <td>p</td>\n",
       "      <td>NaN</td>\n",
       "      <td>x</td>\n",
       "      <td>t</td>\n",
       "      <td>n</td>\n",
       "      <td>f</td>\n",
       "      <td>a</td>\n",
       "      <td>c</td>\n",
       "      <td>w</td>\n",
       "      <td>...</td>\n",
       "      <td>b</td>\n",
       "      <td>s</td>\n",
       "      <td>w</td>\n",
       "      <td>u</td>\n",
       "      <td>w</td>\n",
       "      <td>f</td>\n",
       "      <td>f</td>\n",
       "      <td>k</td>\n",
       "      <td>d</td>\n",
       "      <td>a</td>\n",
       "    </tr>\n",
       "    <tr>\n",
       "      <th>freq</th>\n",
       "      <td>NaN</td>\n",
       "      <td>1705396</td>\n",
       "      <td>NaN</td>\n",
       "      <td>1436026</td>\n",
       "      <td>460777</td>\n",
       "      <td>1359542</td>\n",
       "      <td>2569743</td>\n",
       "      <td>646034</td>\n",
       "      <td>1331054</td>\n",
       "      <td>931538</td>\n",
       "      <td>...</td>\n",
       "      <td>165801</td>\n",
       "      <td>327610</td>\n",
       "      <td>1196637</td>\n",
       "      <td>159373</td>\n",
       "      <td>279070</td>\n",
       "      <td>2368820</td>\n",
       "      <td>2477170</td>\n",
       "      <td>107310</td>\n",
       "      <td>2177573</td>\n",
       "      <td>1543321</td>\n",
       "    </tr>\n",
       "    <tr>\n",
       "      <th>mean</th>\n",
       "      <td>1.558472e+06</td>\n",
       "      <td>NaN</td>\n",
       "      <td>6.309848e+00</td>\n",
       "      <td>NaN</td>\n",
       "      <td>NaN</td>\n",
       "      <td>NaN</td>\n",
       "      <td>NaN</td>\n",
       "      <td>NaN</td>\n",
       "      <td>NaN</td>\n",
       "      <td>NaN</td>\n",
       "      <td>...</td>\n",
       "      <td>NaN</td>\n",
       "      <td>NaN</td>\n",
       "      <td>NaN</td>\n",
       "      <td>NaN</td>\n",
       "      <td>NaN</td>\n",
       "      <td>NaN</td>\n",
       "      <td>NaN</td>\n",
       "      <td>NaN</td>\n",
       "      <td>NaN</td>\n",
       "      <td>NaN</td>\n",
       "    </tr>\n",
       "    <tr>\n",
       "      <th>std</th>\n",
       "      <td>8.997847e+05</td>\n",
       "      <td>NaN</td>\n",
       "      <td>4.657931e+00</td>\n",
       "      <td>NaN</td>\n",
       "      <td>NaN</td>\n",
       "      <td>NaN</td>\n",
       "      <td>NaN</td>\n",
       "      <td>NaN</td>\n",
       "      <td>NaN</td>\n",
       "      <td>NaN</td>\n",
       "      <td>...</td>\n",
       "      <td>NaN</td>\n",
       "      <td>NaN</td>\n",
       "      <td>NaN</td>\n",
       "      <td>NaN</td>\n",
       "      <td>NaN</td>\n",
       "      <td>NaN</td>\n",
       "      <td>NaN</td>\n",
       "      <td>NaN</td>\n",
       "      <td>NaN</td>\n",
       "      <td>NaN</td>\n",
       "    </tr>\n",
       "    <tr>\n",
       "      <th>min</th>\n",
       "      <td>0.000000e+00</td>\n",
       "      <td>NaN</td>\n",
       "      <td>3.000000e-02</td>\n",
       "      <td>NaN</td>\n",
       "      <td>NaN</td>\n",
       "      <td>NaN</td>\n",
       "      <td>NaN</td>\n",
       "      <td>NaN</td>\n",
       "      <td>NaN</td>\n",
       "      <td>NaN</td>\n",
       "      <td>...</td>\n",
       "      <td>NaN</td>\n",
       "      <td>NaN</td>\n",
       "      <td>NaN</td>\n",
       "      <td>NaN</td>\n",
       "      <td>NaN</td>\n",
       "      <td>NaN</td>\n",
       "      <td>NaN</td>\n",
       "      <td>NaN</td>\n",
       "      <td>NaN</td>\n",
       "      <td>NaN</td>\n",
       "    </tr>\n",
       "    <tr>\n",
       "      <th>25%</th>\n",
       "      <td>7.792360e+05</td>\n",
       "      <td>NaN</td>\n",
       "      <td>3.320000e+00</td>\n",
       "      <td>NaN</td>\n",
       "      <td>NaN</td>\n",
       "      <td>NaN</td>\n",
       "      <td>NaN</td>\n",
       "      <td>NaN</td>\n",
       "      <td>NaN</td>\n",
       "      <td>NaN</td>\n",
       "      <td>...</td>\n",
       "      <td>NaN</td>\n",
       "      <td>NaN</td>\n",
       "      <td>NaN</td>\n",
       "      <td>NaN</td>\n",
       "      <td>NaN</td>\n",
       "      <td>NaN</td>\n",
       "      <td>NaN</td>\n",
       "      <td>NaN</td>\n",
       "      <td>NaN</td>\n",
       "      <td>NaN</td>\n",
       "    </tr>\n",
       "    <tr>\n",
       "      <th>50%</th>\n",
       "      <td>1.558472e+06</td>\n",
       "      <td>NaN</td>\n",
       "      <td>5.750000e+00</td>\n",
       "      <td>NaN</td>\n",
       "      <td>NaN</td>\n",
       "      <td>NaN</td>\n",
       "      <td>NaN</td>\n",
       "      <td>NaN</td>\n",
       "      <td>NaN</td>\n",
       "      <td>NaN</td>\n",
       "      <td>...</td>\n",
       "      <td>NaN</td>\n",
       "      <td>NaN</td>\n",
       "      <td>NaN</td>\n",
       "      <td>NaN</td>\n",
       "      <td>NaN</td>\n",
       "      <td>NaN</td>\n",
       "      <td>NaN</td>\n",
       "      <td>NaN</td>\n",
       "      <td>NaN</td>\n",
       "      <td>NaN</td>\n",
       "    </tr>\n",
       "    <tr>\n",
       "      <th>75%</th>\n",
       "      <td>2.337708e+06</td>\n",
       "      <td>NaN</td>\n",
       "      <td>8.240000e+00</td>\n",
       "      <td>NaN</td>\n",
       "      <td>NaN</td>\n",
       "      <td>NaN</td>\n",
       "      <td>NaN</td>\n",
       "      <td>NaN</td>\n",
       "      <td>NaN</td>\n",
       "      <td>NaN</td>\n",
       "      <td>...</td>\n",
       "      <td>NaN</td>\n",
       "      <td>NaN</td>\n",
       "      <td>NaN</td>\n",
       "      <td>NaN</td>\n",
       "      <td>NaN</td>\n",
       "      <td>NaN</td>\n",
       "      <td>NaN</td>\n",
       "      <td>NaN</td>\n",
       "      <td>NaN</td>\n",
       "      <td>NaN</td>\n",
       "    </tr>\n",
       "    <tr>\n",
       "      <th>max</th>\n",
       "      <td>3.116944e+06</td>\n",
       "      <td>NaN</td>\n",
       "      <td>8.067000e+01</td>\n",
       "      <td>NaN</td>\n",
       "      <td>NaN</td>\n",
       "      <td>NaN</td>\n",
       "      <td>NaN</td>\n",
       "      <td>NaN</td>\n",
       "      <td>NaN</td>\n",
       "      <td>NaN</td>\n",
       "      <td>...</td>\n",
       "      <td>NaN</td>\n",
       "      <td>NaN</td>\n",
       "      <td>NaN</td>\n",
       "      <td>NaN</td>\n",
       "      <td>NaN</td>\n",
       "      <td>NaN</td>\n",
       "      <td>NaN</td>\n",
       "      <td>NaN</td>\n",
       "      <td>NaN</td>\n",
       "      <td>NaN</td>\n",
       "    </tr>\n",
       "  </tbody>\n",
       "</table>\n",
       "<p>11 rows × 22 columns</p>\n",
       "</div>"
      ],
      "text/plain": [
       "                  id    class  cap-diameter cap-shape cap-surface cap-color  \\\n",
       "count   3.116945e+06  3116945  3.116941e+06   3116905     2445922   3116933   \n",
       "unique           NaN        2           NaN        74          83        78   \n",
       "top              NaN        p           NaN         x           t         n   \n",
       "freq             NaN  1705396           NaN   1436026      460777   1359542   \n",
       "mean    1.558472e+06      NaN  6.309848e+00       NaN         NaN       NaN   \n",
       "std     8.997847e+05      NaN  4.657931e+00       NaN         NaN       NaN   \n",
       "min     0.000000e+00      NaN  3.000000e-02       NaN         NaN       NaN   \n",
       "25%     7.792360e+05      NaN  3.320000e+00       NaN         NaN       NaN   \n",
       "50%     1.558472e+06      NaN  5.750000e+00       NaN         NaN       NaN   \n",
       "75%     2.337708e+06      NaN  8.240000e+00       NaN         NaN       NaN   \n",
       "max     3.116944e+06      NaN  8.067000e+01       NaN         NaN       NaN   \n",
       "\n",
       "       does-bruise-or-bleed gill-attachment gill-spacing gill-color  ...  \\\n",
       "count               3116937         2593009      1858510    3116888  ...   \n",
       "unique                   26              78           48         63  ...   \n",
       "top                       f               a            c          w  ...   \n",
       "freq                2569743          646034      1331054     931538  ...   \n",
       "mean                    NaN             NaN          NaN        NaN  ...   \n",
       "std                     NaN             NaN          NaN        NaN  ...   \n",
       "min                     NaN             NaN          NaN        NaN  ...   \n",
       "25%                     NaN             NaN          NaN        NaN  ...   \n",
       "50%                     NaN             NaN          NaN        NaN  ...   \n",
       "75%                     NaN             NaN          NaN        NaN  ...   \n",
       "max                     NaN             NaN          NaN        NaN  ...   \n",
       "\n",
       "        stem-root  stem-surface stem-color veil-type veil-color has-ring  \\\n",
       "count      359922       1136084    3116907    159452     375998  3116921   \n",
       "unique         38            60         59        22         24       23   \n",
       "top             b             s          w         u          w        f   \n",
       "freq       165801        327610    1196637    159373     279070  2368820   \n",
       "mean          NaN           NaN        NaN       NaN        NaN      NaN   \n",
       "std           NaN           NaN        NaN       NaN        NaN      NaN   \n",
       "min           NaN           NaN        NaN       NaN        NaN      NaN   \n",
       "25%           NaN           NaN        NaN       NaN        NaN      NaN   \n",
       "50%           NaN           NaN        NaN       NaN        NaN      NaN   \n",
       "75%           NaN           NaN        NaN       NaN        NaN      NaN   \n",
       "max           NaN           NaN        NaN       NaN        NaN      NaN   \n",
       "\n",
       "       ring-type spore-print-color  habitat   season  \n",
       "count    2988065            267263  3116900  3116945  \n",
       "unique        40                32       52        4  \n",
       "top            f                 k        d        a  \n",
       "freq     2477170            107310  2177573  1543321  \n",
       "mean         NaN               NaN      NaN      NaN  \n",
       "std          NaN               NaN      NaN      NaN  \n",
       "min          NaN               NaN      NaN      NaN  \n",
       "25%          NaN               NaN      NaN      NaN  \n",
       "50%          NaN               NaN      NaN      NaN  \n",
       "75%          NaN               NaN      NaN      NaN  \n",
       "max          NaN               NaN      NaN      NaN  \n",
       "\n",
       "[11 rows x 22 columns]"
      ]
     },
     "execution_count": 7,
     "metadata": {},
     "output_type": "execute_result"
    }
   ],
   "source": [
    "data_train.describe(include = 'all')"
   ]
  },
  {
   "cell_type": "code",
   "execution_count": 8,
   "id": "cab9b781",
   "metadata": {
    "execution": {
     "iopub.execute_input": "2024-08-02T12:06:32.287489Z",
     "iopub.status.busy": "2024-08-02T12:06:32.287100Z",
     "iopub.status.idle": "2024-08-02T12:06:34.636866Z",
     "shell.execute_reply": "2024-08-02T12:06:34.635683Z"
    },
    "papermill": {
     "duration": 2.362044,
     "end_time": "2024-08-02T12:06:34.639302",
     "exception": false,
     "start_time": "2024-08-02T12:06:32.277258",
     "status": "completed"
    },
    "tags": []
   },
   "outputs": [
    {
     "data": {
      "text/plain": [
       "id                            0\n",
       "class                         0\n",
       "cap-diameter                  4\n",
       "cap-shape                    40\n",
       "cap-surface              671023\n",
       "cap-color                    12\n",
       "does-bruise-or-bleed          8\n",
       "gill-attachment          523936\n",
       "gill-spacing            1258435\n",
       "gill-color                   57\n",
       "stem-height                   0\n",
       "stem-width                    0\n",
       "stem-root               2757023\n",
       "stem-surface            1980861\n",
       "stem-color                   38\n",
       "veil-type               2957493\n",
       "veil-color              2740947\n",
       "has-ring                     24\n",
       "ring-type                128880\n",
       "spore-print-color       2849682\n",
       "habitat                      45\n",
       "season                        0\n",
       "dtype: int64"
      ]
     },
     "execution_count": 8,
     "metadata": {},
     "output_type": "execute_result"
    }
   ],
   "source": [
    "data_train.isna().sum()"
   ]
  },
  {
   "cell_type": "code",
   "execution_count": 9,
   "id": "02625d2c",
   "metadata": {
    "execution": {
     "iopub.execute_input": "2024-08-02T12:06:34.657683Z",
     "iopub.status.busy": "2024-08-02T12:06:34.657268Z",
     "iopub.status.idle": "2024-08-02T12:06:36.997920Z",
     "shell.execute_reply": "2024-08-02T12:06:36.996953Z"
    },
    "papermill": {
     "duration": 2.352667,
     "end_time": "2024-08-02T12:06:37.000262",
     "exception": false,
     "start_time": "2024-08-02T12:06:34.647595",
     "status": "completed"
    },
    "tags": []
   },
   "outputs": [
    {
     "data": {
      "text/plain": [
       "id                            0\n",
       "class                         0\n",
       "cap-diameter                  4\n",
       "cap-shape                    40\n",
       "cap-surface              671023\n",
       "cap-color                    12\n",
       "does-bruise-or-bleed          8\n",
       "gill-attachment          523936\n",
       "gill-spacing            1258435\n",
       "gill-color                   57\n",
       "stem-height                   0\n",
       "stem-width                    0\n",
       "stem-root               2757023\n",
       "stem-surface            1980861\n",
       "stem-color                   38\n",
       "veil-type               2957493\n",
       "veil-color              2740947\n",
       "has-ring                     24\n",
       "ring-type                128880\n",
       "spore-print-color       2849682\n",
       "habitat                      45\n",
       "season                        0\n",
       "dtype: int64"
      ]
     },
     "execution_count": 9,
     "metadata": {},
     "output_type": "execute_result"
    }
   ],
   "source": [
    "data_train.isnull().sum()"
   ]
  },
  {
   "cell_type": "code",
   "execution_count": null,
   "id": "7b9ee966",
   "metadata": {
    "papermill": {
     "duration": 0.007967,
     "end_time": "2024-08-02T12:06:37.016718",
     "exception": false,
     "start_time": "2024-08-02T12:06:37.008751",
     "status": "completed"
    },
    "tags": []
   },
   "outputs": [],
   "source": []
  },
  {
   "cell_type": "code",
   "execution_count": null,
   "id": "e81b466b",
   "metadata": {
    "papermill": {
     "duration": 0.00826,
     "end_time": "2024-08-02T12:06:37.033248",
     "exception": false,
     "start_time": "2024-08-02T12:06:37.024988",
     "status": "completed"
    },
    "tags": []
   },
   "outputs": [],
   "source": []
  },
  {
   "cell_type": "markdown",
   "id": "b1b0f926",
   "metadata": {
    "papermill": {
     "duration": 0.008004,
     "end_time": "2024-08-02T12:06:37.049608",
     "exception": false,
     "start_time": "2024-08-02T12:06:37.041604",
     "status": "completed"
    },
    "tags": []
   },
   "source": [
    "## EDA on Testing Dataset"
   ]
  },
  {
   "cell_type": "code",
   "execution_count": 10,
   "id": "b0c3d870",
   "metadata": {
    "execution": {
     "iopub.execute_input": "2024-08-02T12:06:37.068994Z",
     "iopub.status.busy": "2024-08-02T12:06:37.067885Z",
     "iopub.status.idle": "2024-08-02T12:06:37.074982Z",
     "shell.execute_reply": "2024-08-02T12:06:37.073981Z"
    },
    "papermill": {
     "duration": 0.019088,
     "end_time": "2024-08-02T12:06:37.077171",
     "exception": false,
     "start_time": "2024-08-02T12:06:37.058083",
     "status": "completed"
    },
    "tags": []
   },
   "outputs": [
    {
     "data": {
      "text/plain": [
       "(2077964, 21)"
      ]
     },
     "execution_count": 10,
     "metadata": {},
     "output_type": "execute_result"
    }
   ],
   "source": [
    "data_test.shape"
   ]
  },
  {
   "cell_type": "markdown",
   "id": "33cbca86",
   "metadata": {
    "papermill": {
     "duration": 0.008384,
     "end_time": "2024-08-02T12:06:37.094104",
     "exception": false,
     "start_time": "2024-08-02T12:06:37.085720",
     "status": "completed"
    },
    "tags": []
   },
   "source": [
    "## EDA on Sample_submission Dataset"
   ]
  },
  {
   "cell_type": "code",
   "execution_count": 11,
   "id": "83b9d82d",
   "metadata": {
    "execution": {
     "iopub.execute_input": "2024-08-02T12:06:37.112897Z",
     "iopub.status.busy": "2024-08-02T12:06:37.112488Z",
     "iopub.status.idle": "2024-08-02T12:06:37.119306Z",
     "shell.execute_reply": "2024-08-02T12:06:37.118287Z"
    },
    "papermill": {
     "duration": 0.018902,
     "end_time": "2024-08-02T12:06:37.121567",
     "exception": false,
     "start_time": "2024-08-02T12:06:37.102665",
     "status": "completed"
    },
    "tags": []
   },
   "outputs": [
    {
     "data": {
      "text/plain": [
       "(2077964, 2)"
      ]
     },
     "execution_count": 11,
     "metadata": {},
     "output_type": "execute_result"
    }
   ],
   "source": [
    "data_sample_sub.shape"
   ]
  },
  {
   "cell_type": "markdown",
   "id": "37e3c0f1",
   "metadata": {
    "papermill": {
     "duration": 0.008259,
     "end_time": "2024-08-02T12:06:37.138706",
     "exception": false,
     "start_time": "2024-08-02T12:06:37.130447",
     "status": "completed"
    },
    "tags": []
   },
   "source": [
    "# Pre-Processing Datasets"
   ]
  },
  {
   "cell_type": "code",
   "execution_count": 12,
   "id": "a2da9b5c",
   "metadata": {
    "execution": {
     "iopub.execute_input": "2024-08-02T12:06:37.157921Z",
     "iopub.status.busy": "2024-08-02T12:06:37.157512Z",
     "iopub.status.idle": "2024-08-02T12:06:42.912919Z",
     "shell.execute_reply": "2024-08-02T12:06:42.911673Z"
    },
    "papermill": {
     "duration": 5.768323,
     "end_time": "2024-08-02T12:06:42.915612",
     "exception": false,
     "start_time": "2024-08-02T12:06:37.147289",
     "status": "completed"
    },
    "tags": []
   },
   "outputs": [
    {
     "data": {
      "text/plain": [
       "(3116945, 22)"
      ]
     },
     "execution_count": 12,
     "metadata": {},
     "output_type": "execute_result"
    }
   ],
   "source": [
    "data_train2 = data_train.copy()\n",
    "data_train2 = data_train.drop_duplicates()\n",
    "data_train2.shape"
   ]
  },
  {
   "cell_type": "code",
   "execution_count": 13,
   "id": "68130900",
   "metadata": {
    "execution": {
     "iopub.execute_input": "2024-08-02T12:06:42.936960Z",
     "iopub.status.busy": "2024-08-02T12:06:42.936503Z",
     "iopub.status.idle": "2024-08-02T12:06:42.948289Z",
     "shell.execute_reply": "2024-08-02T12:06:42.947154Z"
    },
    "papermill": {
     "duration": 0.025949,
     "end_time": "2024-08-02T12:06:42.950987",
     "exception": false,
     "start_time": "2024-08-02T12:06:42.925038",
     "status": "completed"
    },
    "tags": []
   },
   "outputs": [
    {
     "name": "stdout",
     "output_type": "stream",
     "text": [
      "<class 'pandas.core.frame.DataFrame'>\n",
      "RangeIndex: 3116945 entries, 0 to 3116944\n",
      "Data columns (total 22 columns):\n",
      " #   Column                Dtype  \n",
      "---  ------                -----  \n",
      " 0   id                    int64  \n",
      " 1   class                 object \n",
      " 2   cap-diameter          float64\n",
      " 3   cap-shape             object \n",
      " 4   cap-surface           object \n",
      " 5   cap-color             object \n",
      " 6   does-bruise-or-bleed  object \n",
      " 7   gill-attachment       object \n",
      " 8   gill-spacing          object \n",
      " 9   gill-color            object \n",
      " 10  stem-height           float64\n",
      " 11  stem-width            float64\n",
      " 12  stem-root             object \n",
      " 13  stem-surface          object \n",
      " 14  stem-color            object \n",
      " 15  veil-type             object \n",
      " 16  veil-color            object \n",
      " 17  has-ring              object \n",
      " 18  ring-type             object \n",
      " 19  spore-print-color     object \n",
      " 20  habitat               object \n",
      " 21  season                object \n",
      "dtypes: float64(3), int64(1), object(18)\n",
      "memory usage: 523.2+ MB\n"
     ]
    }
   ],
   "source": [
    "data_train2.info()"
   ]
  },
  {
   "cell_type": "code",
   "execution_count": 14,
   "id": "54140fb3",
   "metadata": {
    "execution": {
     "iopub.execute_input": "2024-08-02T12:06:42.973218Z",
     "iopub.status.busy": "2024-08-02T12:06:42.972277Z",
     "iopub.status.idle": "2024-08-02T12:06:45.331982Z",
     "shell.execute_reply": "2024-08-02T12:06:45.330722Z"
    },
    "papermill": {
     "duration": 2.373376,
     "end_time": "2024-08-02T12:06:45.334456",
     "exception": false,
     "start_time": "2024-08-02T12:06:42.961080",
     "status": "completed"
    },
    "tags": []
   },
   "outputs": [
    {
     "data": {
      "text/plain": [
       "id                            0\n",
       "class                         0\n",
       "cap-diameter                  4\n",
       "cap-shape                    40\n",
       "cap-surface              671023\n",
       "cap-color                    12\n",
       "does-bruise-or-bleed          8\n",
       "gill-attachment          523936\n",
       "gill-spacing            1258435\n",
       "gill-color                   57\n",
       "stem-height                   0\n",
       "stem-width                    0\n",
       "stem-root               2757023\n",
       "stem-surface            1980861\n",
       "stem-color                   38\n",
       "veil-type               2957493\n",
       "veil-color              2740947\n",
       "has-ring                     24\n",
       "ring-type                128880\n",
       "spore-print-color       2849682\n",
       "habitat                      45\n",
       "season                        0\n",
       "dtype: int64"
      ]
     },
     "execution_count": 14,
     "metadata": {},
     "output_type": "execute_result"
    }
   ],
   "source": [
    "data_train2.isna().sum()"
   ]
  },
  {
   "cell_type": "code",
   "execution_count": 15,
   "id": "0883f4aa",
   "metadata": {
    "execution": {
     "iopub.execute_input": "2024-08-02T12:06:45.354900Z",
     "iopub.status.busy": "2024-08-02T12:06:45.354514Z",
     "iopub.status.idle": "2024-08-02T12:06:47.699343Z",
     "shell.execute_reply": "2024-08-02T12:06:47.698246Z"
    },
    "papermill": {
     "duration": 2.357834,
     "end_time": "2024-08-02T12:06:47.701901",
     "exception": false,
     "start_time": "2024-08-02T12:06:45.344067",
     "status": "completed"
    },
    "tags": []
   },
   "outputs": [
    {
     "data": {
      "text/plain": [
       "id                       0.000000\n",
       "class                    0.000000\n",
       "cap-diameter             0.000128\n",
       "cap-shape                0.001283\n",
       "cap-surface             21.528227\n",
       "cap-color                0.000385\n",
       "does-bruise-or-bleed     0.000257\n",
       "gill-attachment         16.809280\n",
       "gill-spacing            40.373988\n",
       "gill-color               0.001829\n",
       "stem-height              0.000000\n",
       "stem-width               0.000000\n",
       "stem-root               88.452732\n",
       "stem-surface            63.551362\n",
       "stem-color               0.001219\n",
       "veil-type               94.884350\n",
       "veil-color              87.936970\n",
       "has-ring                 0.000770\n",
       "ring-type                4.134818\n",
       "spore-print-color       91.425482\n",
       "habitat                  0.001444\n",
       "season                   0.000000\n",
       "dtype: float64"
      ]
     },
     "execution_count": 15,
     "metadata": {},
     "output_type": "execute_result"
    }
   ],
   "source": [
    "data_train2.isna().mean()*100"
   ]
  },
  {
   "cell_type": "code",
   "execution_count": 16,
   "id": "4c646b32",
   "metadata": {
    "execution": {
     "iopub.execute_input": "2024-08-02T12:06:47.721800Z",
     "iopub.status.busy": "2024-08-02T12:06:47.721344Z",
     "iopub.status.idle": "2024-08-02T12:06:50.076408Z",
     "shell.execute_reply": "2024-08-02T12:06:50.075293Z"
    },
    "papermill": {
     "duration": 2.367842,
     "end_time": "2024-08-02T12:06:50.078806",
     "exception": false,
     "start_time": "2024-08-02T12:06:47.710964",
     "status": "completed"
    },
    "tags": []
   },
   "outputs": [
    {
     "data": {
      "text/plain": [
       "stem-root            88.452732\n",
       "veil-type            94.884350\n",
       "veil-color           87.936970\n",
       "spore-print-color    91.425482\n",
       "dtype: float64"
      ]
     },
     "execution_count": 16,
     "metadata": {},
     "output_type": "execute_result"
    }
   ],
   "source": [
    "miss70 = data_train2.isna().mean()*100\n",
    "miss70[miss70>70]"
   ]
  },
  {
   "cell_type": "code",
   "execution_count": 17,
   "id": "293662a4",
   "metadata": {
    "execution": {
     "iopub.execute_input": "2024-08-02T12:06:50.099475Z",
     "iopub.status.busy": "2024-08-02T12:06:50.099048Z",
     "iopub.status.idle": "2024-08-02T12:06:50.832027Z",
     "shell.execute_reply": "2024-08-02T12:06:50.830462Z"
    },
    "papermill": {
     "duration": 0.746528,
     "end_time": "2024-08-02T12:06:50.834754",
     "exception": false,
     "start_time": "2024-08-02T12:06:50.088226",
     "status": "completed"
    },
    "tags": []
   },
   "outputs": [
    {
     "name": "stdout",
     "output_type": "stream",
     "text": [
      "<class 'pandas.core.frame.DataFrame'>\n",
      "RangeIndex: 3116945 entries, 0 to 3116944\n",
      "Data columns (total 17 columns):\n",
      " #   Column                Dtype  \n",
      "---  ------                -----  \n",
      " 0   class                 object \n",
      " 1   cap-diameter          float64\n",
      " 2   cap-shape             object \n",
      " 3   cap-surface           object \n",
      " 4   cap-color             object \n",
      " 5   does-bruise-or-bleed  object \n",
      " 6   gill-attachment       object \n",
      " 7   gill-spacing          object \n",
      " 8   gill-color            object \n",
      " 9   stem-height           float64\n",
      " 10  stem-width            float64\n",
      " 11  stem-surface          object \n",
      " 12  stem-color            object \n",
      " 13  has-ring              object \n",
      " 14  ring-type             object \n",
      " 15  habitat               object \n",
      " 16  season                object \n",
      "dtypes: float64(3), object(14)\n",
      "memory usage: 404.3+ MB\n"
     ]
    }
   ],
   "source": [
    "data_train2  = data_train.drop(['id','stem-root','veil-type','veil-color','spore-print-color'], axis =1)\n",
    "\n",
    "data_train2.info()"
   ]
  },
  {
   "cell_type": "code",
   "execution_count": null,
   "id": "90647d39",
   "metadata": {
    "papermill": {
     "duration": 0.009156,
     "end_time": "2024-08-02T12:06:50.853697",
     "exception": false,
     "start_time": "2024-08-02T12:06:50.844541",
     "status": "completed"
    },
    "tags": []
   },
   "outputs": [],
   "source": []
  },
  {
   "cell_type": "markdown",
   "id": "99c3ea91",
   "metadata": {
    "papermill": {
     "duration": 0.009046,
     "end_time": "2024-08-02T12:06:50.872331",
     "exception": false,
     "start_time": "2024-08-02T12:06:50.863285",
     "status": "completed"
    },
    "tags": []
   },
   "source": []
  },
  {
   "cell_type": "code",
   "execution_count": null,
   "id": "7822340f",
   "metadata": {
    "papermill": {
     "duration": 0.009063,
     "end_time": "2024-08-02T12:06:50.890928",
     "exception": false,
     "start_time": "2024-08-02T12:06:50.881865",
     "status": "completed"
    },
    "tags": []
   },
   "outputs": [],
   "source": []
  },
  {
   "cell_type": "code",
   "execution_count": null,
   "id": "da43c6e0",
   "metadata": {
    "papermill": {
     "duration": 0.009129,
     "end_time": "2024-08-02T12:06:50.909229",
     "exception": false,
     "start_time": "2024-08-02T12:06:50.900100",
     "status": "completed"
    },
    "tags": []
   },
   "outputs": [],
   "source": []
  },
  {
   "cell_type": "markdown",
   "id": "2590a55a",
   "metadata": {
    "papermill": {
     "duration": 0.010364,
     "end_time": "2024-08-02T12:06:50.929302",
     "exception": false,
     "start_time": "2024-08-02T12:06:50.918938",
     "status": "completed"
    },
    "tags": []
   },
   "source": [
    "# Data Analysis"
   ]
  },
  {
   "cell_type": "code",
   "execution_count": 18,
   "id": "04d39b1e",
   "metadata": {
    "execution": {
     "iopub.execute_input": "2024-08-02T12:06:50.949991Z",
     "iopub.status.busy": "2024-08-02T12:06:50.949573Z",
     "iopub.status.idle": "2024-08-02T12:06:51.486821Z",
     "shell.execute_reply": "2024-08-02T12:06:51.485555Z"
    },
    "papermill": {
     "duration": 0.550601,
     "end_time": "2024-08-02T12:06:51.489514",
     "exception": false,
     "start_time": "2024-08-02T12:06:50.938913",
     "status": "completed"
    },
    "tags": []
   },
   "outputs": [],
   "source": [
    "data_ana1 = data_train.copy()"
   ]
  }
 ],
 "metadata": {
  "kaggle": {
   "accelerator": "none",
   "dataSources": [
    {
     "databundleVersionId": 9045607,
     "sourceId": 76727,
     "sourceType": "competition"
    }
   ],
   "dockerImageVersionId": 30746,
   "isGpuEnabled": false,
   "isInternetEnabled": true,
   "language": "python",
   "sourceType": "notebook"
  },
  "kernelspec": {
   "display_name": "Python 3",
   "language": "python",
   "name": "python3"
  },
  "language_info": {
   "codemirror_mode": {
    "name": "ipython",
    "version": 3
   },
   "file_extension": ".py",
   "mimetype": "text/x-python",
   "name": "python",
   "nbconvert_exporter": "python",
   "pygments_lexer": "ipython3",
   "version": "3.10.13"
  },
  "papermill": {
   "default_parameters": {},
   "duration": 50.645462,
   "end_time": "2024-08-02T12:06:52.823824",
   "environment_variables": {},
   "exception": null,
   "input_path": "__notebook__.ipynb",
   "output_path": "__notebook__.ipynb",
   "parameters": {},
   "start_time": "2024-08-02T12:06:02.178362",
   "version": "2.5.0"
  }
 },
 "nbformat": 4,
 "nbformat_minor": 5
}
